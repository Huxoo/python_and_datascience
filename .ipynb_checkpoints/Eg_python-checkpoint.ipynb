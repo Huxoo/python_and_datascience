{
 "cells": [
  {
   "cell_type": "code",
   "execution_count": 11,
   "id": "d468cb08",
   "metadata": {},
   "outputs": [
    {
     "name": "stdout",
     "output_type": "stream",
     "text": [
      "hello world good morning\tokay, let's do it\n"
     ]
    }
   ],
   "source": [
    "print(\"hello world\", \"good morning\", end=\"\\t\")\n",
    "print(\"okay, let's do it\")"
   ]
  },
  {
   "cell_type": "markdown",
   "id": "f2579b7e",
   "metadata": {},
   "source": [
    "### Miscellaneous"
   ]
  },
  {
   "cell_type": "code",
   "execution_count": 3,
   "id": "1d869bcc",
   "metadata": {},
   "outputs": [
    {
     "name": "stdout",
     "output_type": "stream",
     "text": [
      "Write diameter of the circle: 4\n",
      "area of the circle is: 12.56.\n"
     ]
    }
   ],
   "source": [
    "import math\n",
    "\n",
    "circle = int(input(\"Write diameter of the circle: \"))\n",
    "half_dia = int(circle) / 2 # calculation of radius.\n",
    "pi = 3.14 #average value of pi\n",
    "area = pi * (math.pow(half_dia, 2))\n",
    "print(f\"area of the circle is: {area}.\")"
   ]
  },
  {
   "cell_type": "code",
   "execution_count": 4,
   "id": "b739d38b",
   "metadata": {},
   "outputs": [
    {
     "name": "stdout",
     "output_type": "stream",
     "text": [
      "Write your age, please: 15\n",
      "Okay, no problem.\n"
     ]
    }
   ],
   "source": [
    "age = int(input(\"Write your age, please: \"))\n",
    "if age >= 15:\n",
    "    print(\"Okay, no problem.\")\n",
    "else:\n",
    "    print(\"More you are little.\")"
   ]
  },
  {
   "cell_type": "code",
   "execution_count": 3,
   "id": "d9e2a04f",
   "metadata": {},
   "outputs": [
    {
     "name": "stdout",
     "output_type": "stream",
     "text": [
      "1\n",
      "2\n",
      "3\n",
      "4\n",
      "5\n",
      "6\n",
      "7\n",
      "8\n",
      "9\n"
     ]
    }
   ],
   "source": [
    "i = 1\n",
    "while i < 10:\n",
    "    print(i)\n",
    "    i += 1"
   ]
  },
  {
   "cell_type": "code",
   "execution_count": 1,
   "id": "65b5fe21",
   "metadata": {},
   "outputs": [
    {
     "name": "stdout",
     "output_type": "stream",
     "text": [
      "number single: 1\n",
      "----------\n",
      "number double: 2\n",
      "----------\n",
      "number single: 3\n",
      "----------\n",
      "number double: 4\n",
      "----------\n",
      "number single: 5\n",
      "----------\n",
      "number double: 6\n",
      "----------\n",
      "number single: 7\n",
      "----------\n",
      "number double: 8\n",
      "----------\n",
      "number single: 9\n",
      "----------\n",
      "number double: 10\n",
      "----------\n",
      "number single: 11\n",
      "----------\n"
     ]
    }
   ],
   "source": [
    "i = 1\n",
    "while i < 12:\n",
    "    if i % 2 == 1:\n",
    "        print(f\"number single: {i}\")\n",
    "    else:\n",
    "        print(f\"number double: {i}\")\n",
    "    i += 1\n",
    "    print('-' * 10)"
   ]
  },
  {
   "cell_type": "code",
   "execution_count": 10,
   "id": "beee314c",
   "metadata": {},
   "outputs": [
    {
     "name": "stdout",
     "output_type": "stream",
     "text": [
      "1\n",
      "2\n",
      "3\n",
      "4\n",
      "5\n"
     ]
    }
   ],
   "source": [
    "numbers = [1,2,3,4,5]\n",
    "for number in numbers:\n",
    "    print(number)"
   ]
  },
  {
   "cell_type": "code",
   "execution_count": 17,
   "id": "f5669dcf",
   "metadata": {},
   "outputs": [
    {
     "name": "stdout",
     "output_type": "stream",
     "text": [
      "password: kolo\n",
      "Your password shouldn't turkish character!\n",
      "Your password shouldn't turkish character!\n",
      "Your password shouldn't turkish character!\n",
      "Your password shouldn't turkish character!\n",
      "Your password shouldn't turkish character!\n",
      "Your password shouldn't turkish character!\n"
     ]
    }
   ],
   "source": [
    "tr_characters = \"şçöğüİ\"\n",
    "pasw = input(\"password: \")\n",
    "for character in tr_characters:\n",
    "    print(\"Your password shouldn't turkish character!\")"
   ]
  },
  {
   "cell_type": "code",
   "execution_count": 14,
   "id": "0b1887bb",
   "metadata": {},
   "outputs": [
    {
     "name": "stdout",
     "output_type": "stream",
     "text": [
      "password: klkllklkş\n",
      "Welcome\n",
      "Welcome\n",
      "Welcome\n",
      "Welcome\n",
      "Welcome\n",
      "Welcome\n"
     ]
    }
   ],
   "source": [
    "tr_characters = \"şçöğüİ\"\n",
    "pasw = input(\"password: \")\n",
    "for character in tr_characters:\n",
    "    if pasw == character:\n",
    "        print(\"Your password shouldn't turkish character!\")\n",
    "    else:\n",
    "        print(\"Welcome\")"
   ]
  },
  {
   "cell_type": "code",
   "execution_count": 2,
   "id": "db0491e4",
   "metadata": {},
   "outputs": [
    {
     "name": "stdout",
     "output_type": "stream",
     "text": [
      "Enter a password, please: asasaasaa\n",
      "your password be with three between eight character\n",
      "Enter a password, please: adisşasdai\n",
      "your password be with three between eight character\n",
      "Enter a password, please: \n",
      "please you enter the password.\n",
      "Enter a password, please: halo44\n",
      "new password: halo44\n"
     ]
    }
   ],
   "source": [
    "while True:\n",
    "    password = input(\"Enter a password, please: \")\n",
    "    if not password:\n",
    "        print(\"please you enter the password.\")\n",
    "    elif len(password) in range(3,8):\n",
    "        print(f\"new password: {password}\")\n",
    "        break\n",
    "    else:\n",
    "        print(\"your password be with three between eight character\")"
   ]
  },
  {
   "cell_type": "code",
   "execution_count": 5,
   "id": "5dea1b65",
   "metadata": {},
   "outputs": [
    {
     "name": "stdout",
     "output_type": "stream",
     "text": [
      "Enter a password, please: (write 'x' for cancel.)sadasdsaadssasa\n",
      "you only insert must one number of the three digit.\n",
      "Enter a password, please: (write 'x' for cancel.)asdadasd\n",
      "you only insert must one number of the three digit.\n",
      "Enter a password, please: (write 'x' for cancel.)asa\n",
      "Enter a password, please: (write 'x' for cancel.)x\n"
     ]
    }
   ],
   "source": [
    "while True:\n",
    "    s = input(\"Enter a password, please: (write 'x' for cancel.)\")\n",
    "    if s == \"x\":\n",
    "        break\n",
    "    if len(s) <= 3:\n",
    "        continue\n",
    "    print(\"you only insert must one number of the three digit.\")"
   ]
  },
  {
   "cell_type": "markdown",
   "id": "a0bc5caa",
   "metadata": {},
   "source": [
    "## Try-except"
   ]
  },
  {
   "cell_type": "code",
   "execution_count": 13,
   "id": "99d76088",
   "metadata": {},
   "outputs": [
    {
     "name": "stdout",
     "output_type": "stream",
     "text": [
      "first number: 100\n",
      "second number: 1/5\n",
      "only enter number, please.\n"
     ]
    }
   ],
   "source": [
    "first_number = input(\"first number: \")\n",
    "second_number = input(\"second number: \")\n",
    "\n",
    "try:\n",
    "    numb1 = int(first_number)\n",
    "    numb2 = int(second_number)\n",
    "    print(f\"numb1: {numb1} / numb2: {numb2} = {numb1 / numb2}\")\n",
    "except ZeroDivisionError:\n",
    "    print(\"You can't divide a number by zero\")\n",
    "except ValueError:\n",
    "    print(\"only enter number, please.\")"
   ]
  },
  {
   "cell_type": "code",
   "execution_count": 1,
   "id": "78ca896e",
   "metadata": {},
   "outputs": [
    {
     "name": "stdout",
     "output_type": "stream",
     "text": [
      "first number: 26\n",
      "second number: i,\n",
      "There are wrong one things. You try again, please!\n"
     ]
    }
   ],
   "source": [
    "first_number = input(\"first number: \")\n",
    "second_number = input(\"second number: \")\n",
    "\n",
    "try:\n",
    "    numb1 = int(first_number)\n",
    "    numb2 = int(second_number)\n",
    "    print(f\"numb1: {numb1} / numb2: {numb2} = {numb1 / numb2}\")\n",
    "except:\n",
    "    print(\"There are wrong one things. You try again, please!\")"
   ]
  },
  {
   "cell_type": "markdown",
   "id": "a8d84593",
   "metadata": {},
   "source": [
    "### Lists"
   ]
  },
  {
   "cell_type": "code",
   "execution_count": 1,
   "id": "86da0367",
   "metadata": {},
   "outputs": [
    {
     "name": "stdout",
     "output_type": "stream",
     "text": [
      "['H', 'u', 'x', 'o', 'o', ' ', 'S', 'i', 'n', 'e', 'r']\n"
     ]
    }
   ],
   "source": [
    "name = \"Huxoo Siner\"\n",
    "list1 = list(name)\n",
    "print(list1)"
   ]
  },
  {
   "cell_type": "code",
   "execution_count": 8,
   "id": "d00e725a",
   "metadata": {},
   "outputs": [
    {
     "data": {
      "text/plain": [
       "['apple', 'melon', 'cherry']"
      ]
     },
     "execution_count": 8,
     "metadata": {},
     "output_type": "execute_result"
    }
   ],
   "source": [
    "fruit = [\"apple\", \"melon\", \"cherry\", \"banana\", \"strawberry\", \"peace\", \"orange\"]\n",
    "fruit[0:3]"
   ]
  },
  {
   "cell_type": "code",
   "execution_count": 3,
   "id": "5195e6d3",
   "metadata": {},
   "outputs": [
    {
     "data": {
      "text/plain": [
       "['melon', 'cherry', 'banana', 'strawberry']"
      ]
     },
     "execution_count": 3,
     "metadata": {},
     "output_type": "execute_result"
    }
   ],
   "source": [
    "fruit[1:5]"
   ]
  },
  {
   "cell_type": "code",
   "execution_count": 9,
   "id": "f1eaabd3",
   "metadata": {},
   "outputs": [
    {
     "name": "stdout",
     "output_type": "stream",
     "text": [
      "0 apple\n",
      "1 melon\n",
      "2 cherry\n",
      "3 banana\n",
      "4 strawberry\n",
      "5 peace\n",
      "6 orange\n"
     ]
    }
   ],
   "source": [
    "for fruits in range(len(fruit)):\n",
    "    print(f\"{fruits} {fruit[fruits]}\")"
   ]
  },
  {
   "cell_type": "code",
   "execution_count": 1,
   "id": "6b0cba9d",
   "metadata": {},
   "outputs": [
    {
     "name": "stdout",
     "output_type": "stream",
     "text": [
      "1 not: 85\n",
      "2 not: 65\n",
      "3 not: 45\n",
      "4 not: 55\n",
      "5 not: 12\n",
      "6 not: 85\n",
      "7 not: 90\n",
      "8 not: 65\n",
      "9 not: 72\n",
      "10 not: 100\n",
      "the notes your entered:  85 65 45 55 12 85 90 65 72 100\n",
      "Your note avarage:  67.4\n"
     ]
    }
   ],
   "source": [
    "numbers = 0\n",
    "notes = []\n",
    "for i in range(10):\n",
    "    data = int(input(f\"{i+1} note: \"))\n",
    "    numbers += data\n",
    "    notes += [data]\n",
    "print(\"the notes your entered: \", *notes)\n",
    "print(\"Your note avarage: \", numbers / 10)"
   ]
  },
  {
   "cell_type": "code",
   "execution_count": 3,
   "id": "1002e3eb",
   "metadata": {},
   "outputs": [
    {
     "name": "stdout",
     "output_type": "stream",
     "text": [
      "[1, 2, 3, 4, 5]\n"
     ]
    }
   ],
   "source": [
    "del_list = [1,2,3,4,5,6]\n",
    "del del_list[5]\n",
    "print(del_list)"
   ]
  },
  {
   "cell_type": "code",
   "execution_count": 8,
   "id": "bd915a7d",
   "metadata": {},
   "outputs": [
    {
     "name": "stdout",
     "output_type": "stream",
     "text": [
      "[1, 2, 3, 4, 5, 6, 7]\n"
     ]
    }
   ],
   "source": [
    "number_list = [1,2,3,4,5,6]\n",
    "number_list.append(7)\n",
    "print(number_list)"
   ]
  },
  {
   "cell_type": "code",
   "execution_count": 2,
   "id": "e30d68f3",
   "metadata": {},
   "outputs": [
    {
     "name": "stdout",
     "output_type": "stream",
     "text": [
      "[1, 2, 3, 1, 2, 3, 4, 5]\n"
     ]
    }
   ],
   "source": [
    "nn_list = [1,2,3]\n",
    "for i in range(5):\n",
    "    data1 = i + 1\n",
    "    nn_list.append(data1)\n",
    "print(nn_list)"
   ]
  },
  {
   "cell_type": "code",
   "execution_count": 17,
   "id": "b68252b5",
   "metadata": {},
   "outputs": [
    {
     "name": "stdout",
     "output_type": "stream",
     "text": [
      "['apple', 'banana', 'cucumber', 'cherry', 'melon', 'peace']\n"
     ]
    }
   ],
   "source": [
    "li1 = [\"apple\", \"banana\", \"cucumber\"]\n",
    "li2 = [\"cherry\", \"melon\", \"peace\"]\n",
    "li1.extend(li2)\n",
    "print(li1)"
   ]
  },
  {
   "cell_type": "code",
   "execution_count": 18,
   "id": "2cc56c22",
   "metadata": {},
   "outputs": [
    {
     "name": "stdout",
     "output_type": "stream",
     "text": [
      "['watermelon', 'apple', 'banana', 'cucumber', 'cherry', 'melon', 'peace']\n"
     ]
    }
   ],
   "source": [
    "li1.insert(0, \"watermelon\")\n",
    "print(li1)"
   ]
  },
  {
   "cell_type": "code",
   "execution_count": 20,
   "id": "9e2d275c",
   "metadata": {},
   "outputs": [
    {
     "name": "stdout",
     "output_type": "stream",
     "text": [
      "['apple', 'banana', 'cucumber', 'cherry', 'melon', 'peace']\n"
     ]
    }
   ],
   "source": [
    "li1.remove(\"watermelon\")\n",
    "print(li1)"
   ]
  },
  {
   "cell_type": "code",
   "execution_count": 21,
   "id": "d30fe59c",
   "metadata": {},
   "outputs": [
    {
     "name": "stdout",
     "output_type": "stream",
     "text": [
      "['peace', 'melon', 'cherry', 'cucumber', 'banana', 'apple']\n"
     ]
    }
   ],
   "source": [
    "li1.reverse()\n",
    "print(li1)"
   ]
  },
  {
   "cell_type": "code",
   "execution_count": 22,
   "id": "60dbdb50",
   "metadata": {},
   "outputs": [
    {
     "name": "stdout",
     "output_type": "stream",
     "text": [
      "['peace', 'melon', 'cherry', 'cucumber', 'banana']\n"
     ]
    }
   ],
   "source": [
    "li1.pop()\n",
    "print(li1)"
   ]
  },
  {
   "cell_type": "markdown",
   "id": "7086defb",
   "metadata": {},
   "source": [
    "### File operations"
   ]
  },
  {
   "cell_type": "code",
   "execution_count": 24,
   "id": "789634f2",
   "metadata": {},
   "outputs": [],
   "source": [
    "document = open(\"exercises.txt\", \"x\")"
   ]
  },
  {
   "cell_type": "code",
   "execution_count": 25,
   "id": "cb00baab",
   "metadata": {},
   "outputs": [],
   "source": [
    "document = open(\"exercises.txt\", \"w\")\n",
    "document.write(\"This folder is a test document.\")\n",
    "document.close()"
   ]
  },
  {
   "cell_type": "code",
   "execution_count": 26,
   "id": "9325cd23",
   "metadata": {},
   "outputs": [
    {
     "name": "stdout",
     "output_type": "stream",
     "text": [
      "This folder is a test document.\n"
     ]
    }
   ],
   "source": [
    "document = open(\"exercises.txt\", \"r\")\n",
    "print(document.read())\n",
    "document.close()"
   ]
  },
  {
   "cell_type": "code",
   "execution_count": 27,
   "id": "e4330302",
   "metadata": {},
   "outputs": [],
   "source": [
    "document = open(\"exercises.txt\", \"w\")\n",
    "document.write(\" Now, i will add new things. Because i need some to the text.\")\n",
    "document.close()"
   ]
  },
  {
   "cell_type": "code",
   "execution_count": 28,
   "id": "39555ef8",
   "metadata": {},
   "outputs": [
    {
     "name": "stdout",
     "output_type": "stream",
     "text": [
      " Now, i will add new things. Because i need some to the text.\n"
     ]
    }
   ],
   "source": [
    "document = open(\"exercises.txt\", \"r\")\n",
    "print(document.readline())"
   ]
  },
  {
   "cell_type": "code",
   "execution_count": 29,
   "id": "1e1523b2",
   "metadata": {},
   "outputs": [],
   "source": [
    "document = open(\"exercises.txt\", \"a\")\n",
    "document.write(\"This folder is a test document. \\n\")\n",
    "document.close()"
   ]
  },
  {
   "cell_type": "code",
   "execution_count": 30,
   "id": "25b28df3",
   "metadata": {},
   "outputs": [
    {
     "name": "stdout",
     "output_type": "stream",
     "text": [
      " Now, i will add new things. Because i need some to the text.This folder is a test document. \n",
      "\n"
     ]
    }
   ],
   "source": [
    "try:\n",
    "    document = open(\"exercises.txt\", \"r\")\n",
    "    print(document.read())\n",
    "except IOError:\n",
    "    print(\"Formed a mistake!\")\n",
    "finally:\n",
    "    document.close()"
   ]
  },
  {
   "cell_type": "code",
   "execution_count": 31,
   "id": "365e186d",
   "metadata": {},
   "outputs": [],
   "source": [
    "try:\n",
    "    document = open(\"exercises.txt\", \"a\")\n",
    "    with open(\"exercises.txt\", \"a\") as document:\n",
    "        document.write(\". added new feature\")\n",
    "except IOError:\n",
    "    print(\"Formed a mistake!\")\n",
    "finally:\n",
    "    document.close()"
   ]
  },
  {
   "cell_type": "code",
   "execution_count": 32,
   "id": "b220241f",
   "metadata": {},
   "outputs": [
    {
     "name": "stdout",
     "output_type": "stream",
     "text": [
      " Now, i will add new things. Because i need some to the text.This folder is a test document. \n",
      ". added new feature\n"
     ]
    }
   ],
   "source": [
    "try:\n",
    "    document = open(\"exercises.txt\", \"r\")\n",
    "    print(document.read())\n",
    "except IOError:\n",
    "    print(\"Formed a mistake!\")\n",
    "finally:\n",
    "    document.close()"
   ]
  },
  {
   "cell_type": "code",
   "execution_count": 35,
   "id": "2f95a145",
   "metadata": {},
   "outputs": [],
   "source": [
    "import os\n",
    "if os.path.exists(\"exercises.txt\"):\n",
    "    os.remove(\"exercises.txt\")\n",
    "else:\n",
    "    print(\"file isn't present.\")"
   ]
  },
  {
   "cell_type": "markdown",
   "id": "4ee44b93",
   "metadata": {},
   "source": [
    "### Functions"
   ]
  },
  {
   "cell_type": "code",
   "execution_count": 2,
   "id": "3f7c71ed",
   "metadata": {},
   "outputs": [
    {
     "data": {
      "text/plain": [
       "9"
      ]
     },
     "execution_count": 2,
     "metadata": {},
     "output_type": "execute_result"
    }
   ],
   "source": [
    "def counter(word):\n",
    "    counter = 0\n",
    "    for letter in word:\n",
    "        counter += 1\n",
    "    return counter\n",
    "\n",
    "counter(\"goodvibes\")"
   ]
  },
  {
   "cell_type": "code",
   "execution_count": 27,
   "id": "413a7834",
   "metadata": {},
   "outputs": [
    {
     "name": "stdout",
     "output_type": "stream",
     "text": [
      "Please you enter the word: Hello, my name is Barbara.\n",
      "Your word: Hello, my name is Barbara.\n",
      "Number of your word: 26\n"
     ]
    }
   ],
   "source": [
    "value = input(\"Please you enter the word: \")\n",
    "print(f\"Your word: {value}\\nNumber of your word: {counter(value)}\")"
   ]
  },
  {
   "cell_type": "code",
   "execution_count": 7,
   "id": "fff48111",
   "metadata": {},
   "outputs": [
    {
     "name": "stdout",
     "output_type": "stream",
     "text": [
      "FACEBOOK\n",
      "Do you want to open account? Say: 'yes or no': yes\n",
      "Okey, you create yourself new nickname, now.\n",
      "nickname: huxoo\n",
      "Good job huxoo. Now, you create your password.\n",
      "password: ········\n",
      "Welcome to Facebook, huxoo\n"
     ]
    }
   ],
   "source": [
    "from getpass import getpass\n",
    "\n",
    "print(\"FACEBOOK\")\n",
    "val1 = input(\"Do you want to open account? Say: 'yes or no': \")\n",
    "if val1 == \"yes\":\n",
    "    print(\"Okey, you create yourself new nickname, now.\")\n",
    "    val2 = input(\"nickname: \")\n",
    "    if counter(val2) < 3 or counter(val2) > 8:\n",
    "        print(\"Stop! your nickname must be between three and eight characters.\")\n",
    "    else:\n",
    "        print(f\"Good job {val2}. Now, you create your password.\")\n",
    "        try:\n",
    "            val3 = getpass(\"password: \")\n",
    "            print(f\"Welcome to Facebook, {val2}\")\n",
    "        except ValueError:\n",
    "            print(\"Please only enter the number\")\n",
    "else:\n",
    "    print(\"Okay, see you later\")"
   ]
  },
  {
   "cell_type": "code",
   "execution_count": 14,
   "id": "a08aee94",
   "metadata": {},
   "outputs": [
    {
     "name": "stdout",
     "output_type": "stream",
     "text": [
      "{136, 297, 177, 123, 510}\n"
     ]
    }
   ],
   "source": [
    "import random\n",
    "def random_number(start=0, stop=500, piece=6):\n",
    "    numbers = set()\n",
    "    while len(numbers) < piece:\n",
    "        numbers.add(random.randrange(start, stop))\n",
    "    return numbers\n",
    "print(random_number(50,525,5))"
   ]
  },
  {
   "cell_type": "code",
   "execution_count": 18,
   "id": "f5dc9934",
   "metadata": {},
   "outputs": [
    {
     "name": "stdout",
     "output_type": "stream",
     "text": [
      "120\n"
     ]
    }
   ],
   "source": [
    "def factoriel(number):\n",
    "    result = 1\n",
    "    while(number >= 1):\n",
    "        result *= number\n",
    "        number -= 1\n",
    "    return result\n",
    "print(factoriel(5))"
   ]
  },
  {
   "cell_type": "code",
   "execution_count": 19,
   "id": "b905339c",
   "metadata": {},
   "outputs": [
    {
     "name": "stdout",
     "output_type": "stream",
     "text": [
      "120\n"
     ]
    }
   ],
   "source": [
    "def factor(number): #Recursive func\n",
    "    if(number == 1):\n",
    "        return 1\n",
    "    else:\n",
    "        return number * factor(number - 1)\n",
    "print(factor(5))"
   ]
  },
  {
   "cell_type": "markdown",
   "id": "0ab580dd",
   "metadata": {},
   "source": [
    "## Data Science"
   ]
  },
  {
   "cell_type": "markdown",
   "id": "ab668916",
   "metadata": {},
   "source": [
    "### Chracter (str) > Methotds"
   ]
  },
  {
   "cell_type": "code",
   "execution_count": 2,
   "id": "ba8b709c",
   "metadata": {},
   "outputs": [
    {
     "name": "stdout",
     "output_type": "stream",
     "text": [
      "Hello/world,/what's/up?\n"
     ]
    }
   ],
   "source": [
    "#Replace()\n",
    "space = \"Hello world, what's up?\"\n",
    "print(space.replace(\" \", \"/\"))"
   ]
  },
  {
   "cell_type": "code",
   "execution_count": 5,
   "id": "14277e2f",
   "metadata": {},
   "outputs": [
    {
     "name": "stdout",
     "output_type": "stream",
     "text": [
      "xplode\n"
     ]
    }
   ],
   "source": [
    "e_toletter = \"explode\"\n",
    "print(e_toletter.replace(\"e\", \"\", 1))"
   ]
  },
  {
   "cell_type": "code",
   "execution_count": 6,
   "id": "be9201db",
   "metadata": {},
   "outputs": [
    {
     "name": "stdout",
     "output_type": "stream",
     "text": [
      "['Grand', 'National', 'Assembly', 'of', 'Türkiye']\n"
     ]
    }
   ],
   "source": [
    "#Split()\n",
    "\n",
    "institutaion = \"Grand National Assembly of Türkiye\"\n",
    "print(institutaion.split())"
   ]
  },
  {
   "cell_type": "code",
   "execution_count": 12,
   "id": "e6c1eb16",
   "metadata": {},
   "outputs": [
    {
     "name": "stdout",
     "output_type": "stream",
     "text": [
      "hello, world!\n"
     ]
    }
   ],
   "source": [
    "#lower()\n",
    "\n",
    "big_word = \"HELLO, WORLD!\"\n",
    "print(big_word.lower())"
   ]
  },
  {
   "cell_type": "code",
   "execution_count": 14,
   "id": "89579223",
   "metadata": {},
   "outputs": [
    {
     "name": "stdout",
     "output_type": "stream",
     "text": [
      "please, enter a password: AsadeEQascaQWCASad\n",
      "asadeeqascaqwcasad the password you entered is correct.\n"
     ]
    }
   ],
   "source": [
    "password = input(\"please, enter a password: \")\n",
    "password = password.lower()\n",
    "print(f\"{password} the password you entered is correct.\")"
   ]
  },
  {
   "cell_type": "code",
   "execution_count": 15,
   "id": "85ae3b7e",
   "metadata": {},
   "outputs": [
    {
     "name": "stdout",
     "output_type": "stream",
     "text": [
      "HELLO, WORLD\n"
     ]
    }
   ],
   "source": [
    "#upper()\n",
    "\n",
    "small_word = \"hello, world\"\n",
    "print(small_word.upper())"
   ]
  },
  {
   "cell_type": "code",
   "execution_count": 19,
   "id": "1d90baa6",
   "metadata": {},
   "outputs": [
    {
     "name": "stdout",
     "output_type": "stream",
     "text": [
      "What is your name: Huxoo\n",
      "Pls, Write your name for small letters. \n"
     ]
    }
   ],
   "source": [
    "#islower and isupper\n",
    "\n",
    "name = input(\"What is your name: \")\n",
    "if not name.islower():\n",
    "    print(\"Pls, Write your name for small letters. \")"
   ]
  },
  {
   "cell_type": "code",
   "execution_count": 21,
   "id": "cb8daf7d",
   "metadata": {},
   "outputs": [
    {
     "name": "stdout",
     "output_type": "stream",
     "text": [
      "True\n"
     ]
    }
   ],
   "source": [
    "#endswith()\n",
    "\n",
    "word = \"apple\"\n",
    "print(word.endswith(\"e\"))"
   ]
  },
  {
   "cell_type": "code",
   "execution_count": 25,
   "id": "0c9a21a2",
   "metadata": {},
   "outputs": [
    {
     "name": "stdout",
     "output_type": "stream",
     "text": [
      "pls, write a word: daddy\n",
      "yes, your word start with 'd' \n"
     ]
    }
   ],
   "source": [
    "#startswith()\n",
    "\n",
    "word = input(\"pls, write a word: \")\n",
    "if word.startswith(\"d\"):\n",
    "    print(\"yes, your word start with 'd' \")\n",
    "else:\n",
    "    print(\"No, your word don't start with 'd'\")"
   ]
  },
  {
   "cell_type": "code",
   "execution_count": 27,
   "id": "e442d3e0",
   "metadata": {},
   "outputs": [
    {
     "name": "stdout",
     "output_type": "stream",
     "text": [
      "Honki monki\n"
     ]
    }
   ],
   "source": [
    "#capitalize()\n",
    "\n",
    "word = \"honki monki\"\n",
    "print(word.capitalize())"
   ]
  },
  {
   "cell_type": "code",
   "execution_count": 28,
   "id": "a569da40",
   "metadata": {},
   "outputs": [
    {
     "name": "stdout",
     "output_type": "stream",
     "text": [
      "Honki Monki Donki\n"
     ]
    }
   ],
   "source": [
    "#title()\n",
    "\n",
    "word = \"honki monki donki\"\n",
    "print(word.title())"
   ]
  },
  {
   "cell_type": "code",
   "execution_count": 35,
   "id": "90399714",
   "metadata": {},
   "outputs": [
    {
     "name": "stdout",
     "output_type": "stream",
     "text": [
      "oogy\n"
     ]
    }
   ],
   "source": [
    "#strip() \"start and end\"\n",
    "\n",
    "word = \"doogy\"\n",
    "print(word.strip(\"d\"))"
   ]
  },
  {
   "cell_type": "markdown",
   "id": "44d9680b",
   "metadata": {},
   "source": [
    "## Lists"
   ]
  },
  {
   "cell_type": "code",
   "execution_count": 1,
   "id": "a5034e74",
   "metadata": {},
   "outputs": [
    {
     "name": "stdout",
     "output_type": "stream",
     "text": [
      "<class 'list'>\n"
     ]
    }
   ],
   "source": [
    "#basic list\n",
    "\n",
    "fruits = [\"banana\", \"apple\", \"cherry\"]\n",
    "print(type(fruits))"
   ]
  },
  {
   "cell_type": "code",
   "execution_count": 2,
   "id": "786fa28e",
   "metadata": {},
   "outputs": [
    {
     "name": "stdout",
     "output_type": "stream",
     "text": [
      "a\n",
      "ab\n",
      "bc\n"
     ]
    }
   ],
   "source": [
    "letter_list = [\"a\", \"b\", \"ab\", \"c\", \"ac\", \"bc\", \"abc\"]\n",
    "print(letter_list[0])\n",
    "print(letter_list[2])\n",
    "print(letter_list[5])"
   ]
  },
  {
   "cell_type": "code",
   "execution_count": 1,
   "id": "985d7205",
   "metadata": {},
   "outputs": [
    {
     "name": "stdout",
     "output_type": "stream",
     "text": [
      "Nurse Doctor Vet Chemist\n",
      "Nurse\n",
      "Chemist\n"
     ]
    }
   ],
   "source": [
    "jobs = [\"Grocer\", \"Judge\", \"Fisherman\", [\"Nurse\", \"Doctor\", \"Vet\", \"Chemist\"]]\n",
    "print(*jobs[3])\n",
    "print(jobs[3][0])\n",
    "print(jobs[3][3])"
   ]
  },
  {
   "cell_type": "code",
   "execution_count": 5,
   "id": "4ac9eb2b",
   "metadata": {},
   "outputs": [
    {
     "name": "stdout",
     "output_type": "stream",
     "text": [
      "['Grocer', 'Lawyer', 'Fisherman', ['Nurse', 'Doctor', 'Vet', 'Chemist']]\n"
     ]
    }
   ],
   "source": [
    "jobs[1] = \"Lawyer\"\n",
    "print(jobs)"
   ]
  },
  {
   "cell_type": "code",
   "execution_count": 12,
   "id": "d99ee577",
   "metadata": {},
   "outputs": [
    {
     "name": "stdout",
     "output_type": "stream",
     "text": [
      "1. not: 54\n",
      "Entered notes:  54\n",
      "Note avarage: 5.4\n",
      "2. not: 78\n",
      "Entered notes:  54 78\n",
      "Note avarage: 13.2\n",
      "3. not: 88\n",
      "Entered notes:  54 78 88\n",
      "Note avarage: 22.0\n",
      "4. not: 90\n",
      "Entered notes:  54 78 88 90\n",
      "Note avarage: 31.0\n",
      "5. not: 56\n",
      "Entered notes:  54 78 88 90 56\n",
      "Note avarage: 36.6\n",
      "6. not: 66\n",
      "Entered notes:  54 78 88 90 56 66\n",
      "Note avarage: 43.2\n",
      "7. not: 58\n",
      "Entered notes:  54 78 88 90 56 66 58\n",
      "Note avarage: 49.0\n",
      "8. not: 90\n",
      "Entered notes:  54 78 88 90 56 66 58 90\n",
      "Note avarage: 58.0\n",
      "9. not: 78\n",
      "Entered notes:  54 78 88 90 56 66 58 90 78\n",
      "Note avarage: 65.8\n",
      "10. not: 90\n",
      "Entered notes:  54 78 88 90 56 66 58 90 78 90\n",
      "Note avarage: 74.8\n"
     ]
    }
   ],
   "source": [
    "numbers = 0\n",
    "notes = [] # or list(notes)\n",
    "for i in range(10):\n",
    "    data = int(input(f\"{i+1}. not: \"))\n",
    "    numbers += data\n",
    "    notes += [data]\n",
    "    print(\"Entered notes: \", *notes)\n",
    "    print(f\"Note avarage: {numbers / 10}\")"
   ]
  },
  {
   "cell_type": "code",
   "execution_count": 13,
   "id": "adb23b87",
   "metadata": {},
   "outputs": [
    {
     "name": "stdout",
     "output_type": "stream",
     "text": [
      "[0, 1, 2, 3, 4, 5, 6, 7, 8, 9]\n"
     ]
    }
   ],
   "source": [
    "# list comprehensions:\n",
    "\n",
    "a_list = [i for i in range(10)]\n",
    "print(a_list)"
   ]
  },
  {
   "cell_type": "code",
   "execution_count": 14,
   "id": "3a01947a",
   "metadata": {},
   "outputs": [
    {
     "name": "stdout",
     "output_type": "stream",
     "text": [
      "[0, 2, 4, 6, 8, 10, 12, 14, 16, 18, 20, 22, 24, 26, 28, 30, 32, 34, 36, 38, 40, 42, 44, 46, 48, 50, 52, 54, 56, 58, 60, 62, 64, 66, 68, 70, 72, 74, 76, 78, 80, 82, 84, 86, 88, 90, 92, 94, 96, 98]\n"
     ]
    }
   ],
   "source": [
    "b_list = [i for i in range(100) if i % 2 == 0]\n",
    "print(b_list)"
   ]
  },
  {
   "cell_type": "code",
   "execution_count": 3,
   "id": "049530df",
   "metadata": {},
   "outputs": [
    {
     "name": "stdout",
     "output_type": "stream",
     "text": [
      "['cherry', 'strawberry', 'orange']\n"
     ]
    }
   ],
   "source": [
    "fruits_list = [\"apple\", \"banana\",\"cherry\", \"melon\", \"mango\", \"strawberry\", \"orange\"]\n",
    "new_list = [i for i in fruits_list if \"r\" in i]\n",
    "print(new_list)"
   ]
  },
  {
   "cell_type": "code",
   "execution_count": 22,
   "id": "f15873c4",
   "metadata": {},
   "outputs": [
    {
     "name": "stdout",
     "output_type": "stream",
     "text": [
      "['banana', 'cherry', 'melon', 'mango', 'strawberry', 'orange']\n"
     ]
    }
   ],
   "source": [
    "new_list_2 = [i for i in fruits_list if i != \"apple\"]\n",
    "print(new_list_2)"
   ]
  },
  {
   "cell_type": "code",
   "execution_count": 31,
   "id": "01a724d1",
   "metadata": {},
   "outputs": [
    {
     "name": "stdout",
     "output_type": "stream",
     "text": [
      "APPLE BANANA CHERRY MELON MANGO STRAWBERRY ORANGE\n"
     ]
    }
   ],
   "source": [
    "new_list_3 = [i.upper().replace(\" \", \"-\") for i in fruits_list]\n",
    "print(*new_list_3)"
   ]
  },
  {
   "cell_type": "code",
   "execution_count": 25,
   "id": "06ad60e1",
   "metadata": {},
   "outputs": [
    {
     "name": "stdout",
     "output_type": "stream",
     "text": [
      "[False, False, False, True, True, False, False]\n"
     ]
    }
   ],
   "source": [
    "new_list_4 = [i.startswith(\"m\") for i in fruits_list]\n",
    "print(new_list_4)"
   ]
  },
  {
   "cell_type": "code",
   "execution_count": 33,
   "id": "f919ed8a",
   "metadata": {},
   "outputs": [
    {
     "name": "stdout",
     "output_type": "stream",
     "text": [
      "['juice ', 'juice ', 'juice ', 'juice ', 'juice ', 'juice ', 'juice ']\n"
     ]
    }
   ],
   "source": [
    "new_list_5 = [\"juice \" for i in fruits_list]\n",
    "print(new_list_5)"
   ]
  },
  {
   "cell_type": "code",
   "execution_count": 4,
   "id": "d0df7d19",
   "metadata": {},
   "outputs": [
    {
     "name": "stdout",
     "output_type": "stream",
     "text": [
      "['apple', 'peach', 'cherry', 'melon', 'mango', 'strawberry', 'orange']\n"
     ]
    }
   ],
   "source": [
    "new_list_6 = [i if i != \"banana\" else \"peach\" for i in fruits_list]\n",
    "print(new_list_6)"
   ]
  },
  {
   "cell_type": "code",
   "execution_count": 21,
   "id": "8c12231f",
   "metadata": {},
   "outputs": [
    {
     "name": "stdout",
     "output_type": "stream",
     "text": [
      " apple peach cherry melon mango strawberry orange \n"
     ]
    }
   ],
   "source": [
    "new_list_6 = str(new_list_6).strip(\"[\").strip(\"]\").replace(\"'\", \" \").replace(\",\", \" \").replace(\"   \", \"\")\n",
    "print(new_list_6)"
   ]
  },
  {
   "cell_type": "code",
   "execution_count": 52,
   "id": "fc05e95d",
   "metadata": {},
   "outputs": [
    {
     "name": "stdout",
     "output_type": "stream",
     "text": [
      "[1, 3, 5, 7, 9]\n"
     ]
    }
   ],
   "source": [
    "a_list = [1,2,3,4,5]\n",
    "b_list = [i * 2 - 1 for i in a_list]\n",
    "print(b_list)"
   ]
  },
  {
   "cell_type": "code",
   "execution_count": 54,
   "id": "ff39b06a",
   "metadata": {},
   "outputs": [
    {
     "name": "stdout",
     "output_type": "stream",
     "text": [
      "[-5, -7, -9]\n"
     ]
    }
   ],
   "source": [
    "c_list = [x * -1 for x in b_list if x > 3]\n",
    "print(c_list)"
   ]
  },
  {
   "cell_type": "code",
   "execution_count": 55,
   "id": "31635a68",
   "metadata": {},
   "outputs": [
    {
     "name": "stdout",
     "output_type": "stream",
     "text": [
      "[10, 14, 18]\n"
     ]
    }
   ],
   "source": [
    "d_list = [abs(x) * 2 for x in c_list]\n",
    "print(d_list)"
   ]
  },
  {
   "cell_type": "markdown",
   "id": "880df7df",
   "metadata": {},
   "source": [
    "## List Methots"
   ]
  },
  {
   "cell_type": "code",
   "execution_count": 1,
   "id": "8f70f068",
   "metadata": {},
   "outputs": [
    {
     "name": "stdout",
     "output_type": "stream",
     "text": [
      "['ab', 'bc', 'cd', 'dg']\n"
     ]
    }
   ],
   "source": [
    "#Append\n",
    "a_list = [\"ab\", \"bc\", \"cd\"]\n",
    "a_list.append(\"dg\")\n",
    "print(a_list)"
   ]
  },
  {
   "cell_type": "code",
   "execution_count": 2,
   "id": "29f20cee",
   "metadata": {},
   "outputs": [
    {
     "name": "stdout",
     "output_type": "stream",
     "text": [
      "['ab', 'cd', 'fg', 'a', 'b', 'c']\n"
     ]
    }
   ],
   "source": [
    "b_list = [\"ab\", \"cd\", \"fg\"]\n",
    "for i in [\"a\", \"b\", \"c\"]:\n",
    "    b_list.append(i)\n",
    "print(b_list)"
   ]
  },
  {
   "cell_type": "code",
   "execution_count": 8,
   "id": "1dc6e7e6",
   "metadata": {},
   "outputs": [
    {
     "name": "stdout",
     "output_type": "stream",
     "text": [
      "['one', 'two', 'three', 1, 2, 3]\n"
     ]
    }
   ],
   "source": [
    "#extend\n",
    "\n",
    "list1 = [\"one\", \"two\", \"three\"]\n",
    "list2 = [1,2,3]\n",
    "\n",
    "list1.extend(list2)\n",
    "print(list1)"
   ]
  },
  {
   "cell_type": "code",
   "execution_count": 9,
   "id": "c32cd254",
   "metadata": {},
   "outputs": [
    {
     "name": "stdout",
     "output_type": "stream",
     "text": [
      "['a', 'lot', 'box', 'beer']\n"
     ]
    }
   ],
   "source": [
    "#insert\n",
    "\n",
    "list_one = [\"a\", \"box\", \"beer\"]\n",
    "list_one.insert(1, \"lot\")\n",
    "print(list_one)"
   ]
  },
  {
   "cell_type": "code",
   "execution_count": 10,
   "id": "29f8e49e",
   "metadata": {},
   "outputs": [
    {
     "name": "stdout",
     "output_type": "stream",
     "text": [
      "['my', 'uncle', 'is']\n"
     ]
    }
   ],
   "source": [
    "#remove\n",
    "\n",
    "list1 = [\"my\", \"uncle\", \"is\", \"rich\"]\n",
    "list1.remove(\"rich\")\n",
    "print(list1)"
   ]
  },
  {
   "cell_type": "code",
   "execution_count": 1,
   "id": "1a8266ac",
   "metadata": {},
   "outputs": [
    {
     "name": "stdout",
     "output_type": "stream",
     "text": [
      "['terrible', 'is', 'job', 'my']\n"
     ]
    }
   ],
   "source": [
    "#reverse\n",
    "\n",
    "list_3 = [\"my\", \"job\", \"is\", \"terrible\"]\n",
    "list_3.reverse()\n",
    "print(list_3)"
   ]
  },
  {
   "cell_type": "code",
   "execution_count": 2,
   "id": "be039d4e",
   "metadata": {},
   "outputs": [
    {
     "name": "stdout",
     "output_type": "stream",
     "text": [
      "['one', 'three']\n"
     ]
    }
   ],
   "source": [
    "#pop\n",
    "\n",
    "list_4 = [\"one\", \"two\", \"three\"]\n",
    "list_4.pop(1)\n",
    "print(list_4)"
   ]
  },
  {
   "cell_type": "code",
   "execution_count": 5,
   "id": "c567152f",
   "metadata": {},
   "outputs": [
    {
     "name": "stdout",
     "output_type": "stream",
     "text": [
      "[1, 3, 5, 6, 7, 12, 34, 221]\n"
     ]
    }
   ],
   "source": [
    "#sort\n",
    "\n",
    "numbers = [1,3,5,6,7,12,221,34]\n",
    "numbers.sort()\n",
    "print(numbers)"
   ]
  },
  {
   "cell_type": "code",
   "execution_count": 6,
   "id": "c700bf7d",
   "metadata": {},
   "outputs": [
    {
     "name": "stdout",
     "output_type": "stream",
     "text": [
      "['a', 'c', 'g', 'r', 'v']\n"
     ]
    }
   ],
   "source": [
    "letters = [\"v\", \"c\", \"a\", \"g\", \"r\"]\n",
    "letters.sort()\n",
    "print(letters)"
   ]
  },
  {
   "cell_type": "markdown",
   "id": "1a80f8a0",
   "metadata": {},
   "source": [
    "## Dictionaries"
   ]
  },
  {
   "cell_type": "code",
   "execution_count": 8,
   "id": "951ac403",
   "metadata": {},
   "outputs": [
    {
     "name": "stdout",
     "output_type": "stream",
     "text": [
      "meydana gelmek\n"
     ]
    }
   ],
   "source": [
    "# define dictionary\n",
    "\n",
    "word_tranlate = {\"box\": \"kutu\",\n",
    "                \"blow up\": \"patlamak\",\n",
    "                \"consist\": \"meydana gelmek\"}\n",
    "print(word_tranlate[\"consist\"])"
   ]
  },
  {
   "cell_type": "code",
   "execution_count": 14,
   "id": "e3deeb66",
   "metadata": {},
   "outputs": [
    {
     "name": "stdout",
     "output_type": "stream",
     "text": [
      "1. box ==> kutu\n",
      "2. blow up ==> patlamak\n",
      "3. consist ==> meydana gelmek\n"
     ]
    }
   ],
   "source": [
    "k = 0\n",
    "for i in word_tranlate:\n",
    "    k += 1\n",
    "    print(f\"{k}. {i} ==> {word_tranlate[i]}\")"
   ]
  },
  {
   "cell_type": "code",
   "execution_count": 18,
   "id": "b87b3de6",
   "metadata": {},
   "outputs": [
    {
     "name": "stdout",
     "output_type": "stream",
     "text": [
      "{'country': 'Turkey', 'age': 22, 'job': 'worker'}\n"
     ]
    }
   ],
   "source": [
    "human = {\"x_person\": {\"country\": \"Turkey\",\n",
    "                     \"age\": 22,\n",
    "                     \"job\": \"worker\"},\n",
    "        \"y_person\": {\"country\": \"Turkey\",\n",
    "                    \"age\": 14,\n",
    "                    \"job\": \"student\"}}\n",
    "print(human[\"x_person\"])"
   ]
  },
  {
   "cell_type": "code",
   "execution_count": 19,
   "id": "13000bec",
   "metadata": {},
   "outputs": [
    {
     "name": "stdout",
     "output_type": "stream",
     "text": [
      "x_person ... {'country': 'Turkey', 'age': 22, 'job': 'worker'}\n",
      "y_person ... {'country': 'Turkey', 'age': 14, 'job': 'student'}\n"
     ]
    }
   ],
   "source": [
    "for i in human:\n",
    "    print(f\"{i} ... {human[i]}\")"
   ]
  },
  {
   "cell_type": "code",
   "execution_count": 20,
   "id": "47f09a39",
   "metadata": {},
   "outputs": [
    {
     "name": "stdout",
     "output_type": "stream",
     "text": [
      "{'low': 'düşük'}\n"
     ]
    }
   ],
   "source": [
    "# add item to dictionary\n",
    "\n",
    "dict_1 = {}\n",
    "dict_1[\"low\"] = \"düşük\"\n",
    "print(dict_1)"
   ]
  },
  {
   "cell_type": "code",
   "execution_count": 1,
   "id": "8c85d0d1",
   "metadata": {},
   "outputs": [
    {
     "name": "stdout",
     "output_type": "stream",
     "text": [
      "{'box': 'kutu', 'blow up': 'patlamak', 'consist': 'meydana gelmek', 'envy': 'sevinmek'}\n"
     ]
    }
   ],
   "source": [
    "# modify dictionary items\n",
    "\n",
    "word_tranlate = {\"box\": \"kutu\",\n",
    "                \"blow up\": \"patlamak\",\n",
    "                \"consist\": \"meydana gelmek\",\n",
    "                \"envy\": \"sevinmek\"}\n",
    "print(word_tranlate)\n"
   ]
  },
  {
   "cell_type": "code",
   "execution_count": 2,
   "id": "f766b16b",
   "metadata": {},
   "outputs": [
    {
     "name": "stdout",
     "output_type": "stream",
     "text": [
      "{'box': 'kutu', 'blow up': 'patlamak', 'consist': 'meydana gelmek', 'envy': 'imrenmek'}\n"
     ]
    }
   ],
   "source": [
    "word_tranlate[\"envy\"] = \"imrenmek\"\n",
    "print(word_tranlate)"
   ]
  },
  {
   "cell_type": "markdown",
   "id": "6fce8c37",
   "metadata": {},
   "source": [
    "### Dictionary Methots"
   ]
  },
  {
   "cell_type": "code",
   "execution_count": 3,
   "id": "4ff78397",
   "metadata": {},
   "outputs": [
    {
     "name": "stdout",
     "output_type": "stream",
     "text": [
      "dict_keys(['box', 'blow up', 'consist'])\n"
     ]
    }
   ],
   "source": [
    "#keys\n",
    "\n",
    "word_tranlate = {\"box\": \"kutu\",\n",
    "                \"blow up\": \"patlamak\",\n",
    "                \"consist\": \"meydana gelmek\"}\n",
    "print(word_tranlate.keys())"
   ]
  },
  {
   "cell_type": "code",
   "execution_count": 4,
   "id": "64067c84",
   "metadata": {},
   "outputs": [
    {
     "name": "stdout",
     "output_type": "stream",
     "text": [
      "dict_values(['kutu', 'patlamak', 'meydana gelmek'])\n"
     ]
    }
   ],
   "source": [
    "#values\n",
    "\n",
    "word_tranlate = {\"box\": \"kutu\",\n",
    "                \"blow up\": \"patlamak\",\n",
    "                \"consist\": \"meydana gelmek\"}\n",
    "\n",
    "print(word_tranlate.values())"
   ]
  },
  {
   "cell_type": "code",
   "execution_count": 5,
   "id": "99aa4d97",
   "metadata": {},
   "outputs": [
    {
     "name": "stdout",
     "output_type": "stream",
     "text": [
      "dict_items([('box', 'kutu'), ('blow up', 'patlamak'), ('consist', 'meydana gelmek')])\n"
     ]
    }
   ],
   "source": [
    "#items\n",
    "\n",
    "word_tranlate = {\"box\": \"kutu\",\n",
    "                \"blow up\": \"patlamak\",\n",
    "                \"consist\": \"meydana gelmek\"}\n",
    "\n",
    "print(word_tranlate.items())"
   ]
  },
  {
   "cell_type": "code",
   "execution_count": 6,
   "id": "64c94f3b",
   "metadata": {},
   "outputs": [
    {
     "name": "stdout",
     "output_type": "stream",
     "text": [
      "box = kutu\n",
      "blow up = patlamak\n",
      "consist = meydana gelmek\n"
     ]
    }
   ],
   "source": [
    "for key, value in word_tranlate.items():\n",
    "    print(f\"{key} = {value}\")"
   ]
  },
  {
   "cell_type": "code",
   "execution_count": 2,
   "id": "bf8de396",
   "metadata": {},
   "outputs": [
    {
     "name": "stdout",
     "output_type": "stream",
     "text": [
      "Please, write the word you want to know the meaning of: \n",
      "Sorry this word not here.\n"
     ]
    }
   ],
   "source": [
    "#get\n",
    "\n",
    "word_translate = {\"box\": \"kutu\",\n",
    "                \"blow up\": \"patlamak\",\n",
    "                \"consist\": \"meydana gelmek\"}\n",
    "query = input(\"Please, write the word you want to know the meaning of: \")\n",
    "\n",
    "if query not in word_translate:\n",
    "    print(\"Sorry this word not here.\")\n",
    "else:\n",
    "    print(word_translate[query])"
   ]
  },
  {
   "cell_type": "code",
   "execution_count": 3,
   "id": "ea9e6bf6",
   "metadata": {},
   "outputs": [
    {
     "name": "stdout",
     "output_type": "stream",
     "text": [
      "Please, write the word you want to know the meaning of: consist\n",
      "meydana gelmek\n"
     ]
    }
   ],
   "source": [
    "query = input(\"Please, write the word you want to know the meaning of: \")\n",
    "print(word_translate.get(query, \"this word not yet\"))"
   ]
  },
  {
   "cell_type": "markdown",
   "id": "b185cea0",
   "metadata": {},
   "source": [
    "## Functions"
   ]
  },
  {
   "cell_type": "code",
   "execution_count": 27,
   "id": "22a8842e",
   "metadata": {},
   "outputs": [],
   "source": [
    "def reg_create(name, surname, no, city):\n",
    "    print(f\"\"\"\n",
    "    name: {name}\n",
    "    surname: {surname}\n",
    "    no: {no}\n",
    "    city: {city}\"\"\")\n",
    "    print(\"-\" * 30)"
   ]
  },
  {
   "cell_type": "code",
   "execution_count": 5,
   "id": "3337827c",
   "metadata": {},
   "outputs": [
    {
     "name": "stdout",
     "output_type": "stream",
     "text": [
      "\n",
      "    name: huxoo\n",
      "    surname: siner\n",
      "    no: 0541125\n",
      "    city: Istanbul\n",
      "------------------------------\n"
     ]
    }
   ],
   "source": [
    "reg_create(\"huxoo\", \"siner\", \"0541125\", \"Istanbul\")"
   ]
  },
  {
   "cell_type": "code",
   "execution_count": 6,
   "id": "7a0d3e85",
   "metadata": {},
   "outputs": [
    {
     "name": "stdout",
     "output_type": "stream",
     "text": [
      "\n",
      "    name: güno\n",
      "    surname: cano\n",
      "    no: 5656565\n",
      "    city: merkez\n",
      "------------------------------\n"
     ]
    }
   ],
   "source": [
    "reg_create(\"güno\", \"cano\", \"5656565\", \"merkez\")"
   ]
  },
  {
   "cell_type": "code",
   "execution_count": 11,
   "id": "0f347237",
   "metadata": {},
   "outputs": [
    {
     "name": "stdout",
     "output_type": "stream",
     "text": [
      "Hello world!\n"
     ]
    }
   ],
   "source": [
    "# functions that do not take parameters\n",
    "\n",
    "def greetings():\n",
    "    print(\"Hello world!\")\n",
    "\n",
    "greetings()"
   ]
  },
  {
   "cell_type": "code",
   "execution_count": 15,
   "id": "e03283e9",
   "metadata": {},
   "outputs": [],
   "source": [
    "def find_square(number):\n",
    "    calc = print(f\"the square of {number} number: {number * number}\")\n",
    "    return calc"
   ]
  },
  {
   "cell_type": "code",
   "execution_count": 16,
   "id": "9e3cf223",
   "metadata": {},
   "outputs": [
    {
     "name": "stdout",
     "output_type": "stream",
     "text": [
      "the square of 8 number: 64\n"
     ]
    }
   ],
   "source": [
    "find_square(8)"
   ]
  },
  {
   "cell_type": "code",
   "execution_count": 21,
   "id": "08ad2663",
   "metadata": {},
   "outputs": [
    {
     "data": {
      "text/plain": [
       "11"
      ]
     },
     "execution_count": 21,
     "metadata": {},
     "output_type": "execute_result"
    }
   ],
   "source": [
    "def chracter_numb(text):\n",
    "    counter = 0\n",
    "    for count in text:\n",
    "        counter += 1\n",
    "    return counter\n",
    "\n",
    "chracter_numb(\"hello_world\")"
   ]
  },
  {
   "cell_type": "code",
   "execution_count": 25,
   "id": "eefa1dc8",
   "metadata": {},
   "outputs": [
    {
     "name": "stdout",
     "output_type": "stream",
     "text": [
      "text: mickeymouse\n",
      "upper text\n"
     ]
    }
   ],
   "source": [
    "log = input(\"text: \")\n",
    "if chracter_numb(log) < 3:\n",
    "    print(\"low text\")\n",
    "elif chracter_numb(log) > 8:\n",
    "    print(\"upper text\")\n",
    "else:\n",
    "    print(\"very text\")\n",
    "    "
   ]
  },
  {
   "cell_type": "code",
   "execution_count": 6,
   "id": "c56fa4f2",
   "metadata": {},
   "outputs": [],
   "source": [
    "# Determining a random number of anonymous parameters.\n",
    "\n",
    "def multi(*numbers):\n",
    "    result = 1\n",
    "    for i in numbers:\n",
    "        result *= i\n",
    "    print(result)"
   ]
  },
  {
   "cell_type": "code",
   "execution_count": 7,
   "id": "eb56586d",
   "metadata": {},
   "outputs": [
    {
     "name": "stdout",
     "output_type": "stream",
     "text": [
      "24\n"
     ]
    }
   ],
   "source": [
    "multi(4,2,3)"
   ]
  },
  {
   "cell_type": "code",
   "execution_count": 21,
   "id": "f6ff7c24",
   "metadata": {
    "scrolled": true
   },
   "outputs": [
    {
     "name": "stdout",
     "output_type": "stream",
     "text": [
      "name      : huxoo\n",
      "surname   : siner\n",
      "no        : 0123456\n",
      "------------------------------\n",
      "name      : cevat\n",
      "surname   : ali\n",
      "no        : 5555\n",
      "------------------------------\n"
     ]
    }
   ],
   "source": [
    "# Determining a random number of noun parameters.\n",
    "\n",
    "def reg_create(**info):\n",
    "    for key, value in info.items():\n",
    "        print(f\"{key:<10}: {value}\")\n",
    "    print(\"-\" * 30)\n",
    "\n",
    "reg_create(name= \"huxoo\", surname= \"siner\", no= \"0123456\")\n",
    "reg_create(name= \"cevat\", surname= \"ali\", no= \"5555\")"
   ]
  },
  {
   "cell_type": "code",
   "execution_count": 2,
   "id": "129cb533",
   "metadata": {},
   "outputs": [
    {
     "name": "stdout",
     "output_type": "stream",
     "text": [
      "what is your name? Huxoo\n",
      "Hi, Huxoo\n"
     ]
    }
   ],
   "source": [
    "# Return #\n",
    "\n",
    "def what_is_name():\n",
    "    name = input(\"what is your name? \")\n",
    "    return name\n",
    "print(f\"Hi, {what_is_name()}\")"
   ]
  },
  {
   "cell_type": "code",
   "execution_count": 3,
   "id": "4542067f",
   "metadata": {},
   "outputs": [
    {
     "name": "stdout",
     "output_type": "stream",
     "text": [
      "0\n"
     ]
    }
   ],
   "source": [
    "# Scope of functions and 'global' expression.\n",
    "\n",
    "x = 1\n",
    "\n",
    "def important(x):\n",
    "    x = 0\n",
    "    print(x)\n",
    "important(1)"
   ]
  },
  {
   "cell_type": "code",
   "execution_count": 4,
   "id": "d95f9238",
   "metadata": {},
   "outputs": [
    {
     "name": "stdout",
     "output_type": "stream",
     "text": [
      "we are changing 'x'\n"
     ]
    },
    {
     "data": {
      "text/plain": [
       "[1]"
      ]
     },
     "execution_count": 4,
     "metadata": {},
     "output_type": "execute_result"
    }
   ],
   "source": [
    "x = []\n",
    "def change():\n",
    "    print(\"we are changing 'x'\")\n",
    "    x.append(1)\n",
    "    return x\n",
    "change()"
   ]
  },
  {
   "cell_type": "code",
   "execution_count": 2,
   "id": "1488a54e",
   "metadata": {},
   "outputs": [
    {
     "name": "stdout",
     "output_type": "stream",
     "text": [
      "113 241 415\n"
     ]
    }
   ],
   "source": [
    "# filter function #\n",
    "\n",
    "numbers = [110, 113, 241, 274, 320, 350, 342, 415]\n",
    "\n",
    "def single_numb(numbers):\n",
    "    return numbers % 2 == 1\n",
    "print(*filter(single_numb, numbers))"
   ]
  },
  {
   "cell_type": "code",
   "execution_count": 4,
   "id": "3f9cca07",
   "metadata": {},
   "outputs": [
    {
     "data": {
      "text/plain": [
       "[110, 274, 320, 350, 342]"
      ]
     },
     "execution_count": 4,
     "metadata": {},
     "output_type": "execute_result"
    }
   ],
   "source": [
    "def double_numb(numbers):\n",
    "    return numbers % 2 == 0\n",
    "\n",
    "[i for i in filter(double_numb, numbers)]"
   ]
  },
  {
   "cell_type": "code",
   "execution_count": 11,
   "id": "5bb4d378",
   "metadata": {},
   "outputs": [
    {
     "data": {
      "text/plain": [
       "(9, 0)"
      ]
     },
     "execution_count": 11,
     "metadata": {},
     "output_type": "execute_result"
    }
   ],
   "source": [
    "# divmod() function\n",
    "\n",
    "divmod(81, 9)"
   ]
  },
  {
   "cell_type": "code",
   "execution_count": 12,
   "id": "414457f4",
   "metadata": {},
   "outputs": [
    {
     "data": {
      "text/plain": [
       "(4, 2)"
      ]
     },
     "execution_count": 12,
     "metadata": {},
     "output_type": "execute_result"
    }
   ],
   "source": [
    "divmod(18, 4)"
   ]
  },
  {
   "cell_type": "code",
   "execution_count": 13,
   "id": "617d61dc",
   "metadata": {},
   "outputs": [
    {
     "data": {
      "text/plain": [
       "[(0, 'h'), (1, 'u'), (2, 'x'), (3, 'o'), (4, 'o')]"
      ]
     },
     "execution_count": 13,
     "metadata": {},
     "output_type": "execute_result"
    }
   ],
   "source": [
    "# enumerate() function\n",
    "\n",
    "[i for i in enumerate(\"huxoo\")]"
   ]
  },
  {
   "cell_type": "code",
   "execution_count": 14,
   "id": "1d3b129a",
   "metadata": {},
   "outputs": [
    {
     "name": "stdout",
     "output_type": "stream",
     "text": [
      "(0, 'a')\n",
      "(1, 'b')\n",
      "(2, 'c')\n",
      "(3, 'd')\n",
      "(4, 'e')\n"
     ]
    }
   ],
   "source": [
    "letters = [\"a\", \"b\", \"c\", \"d\", \"e\"]\n",
    "\n",
    "for i in enumerate(letters):\n",
    "    print(i)"
   ]
  },
  {
   "cell_type": "code",
   "execution_count": 16,
   "id": "01819548",
   "metadata": {},
   "outputs": [
    {
     "name": "stdout",
     "output_type": "stream",
     "text": [
      "1 apple\n",
      "2 cherry\n",
      "3 banana\n",
      "4 melon\n"
     ]
    }
   ],
   "source": [
    "fruits = [\"apple\", \"cherry\", \"banana\", \"melon\"]\n",
    "\n",
    "for i, j in enumerate(fruits, 1):\n",
    "    print(i, j)\n",
    "    "
   ]
  },
  {
   "cell_type": "code",
   "execution_count": 17,
   "id": "d388d8d9",
   "metadata": {},
   "outputs": [
    {
     "name": "stdout",
     "output_type": "stream",
     "text": [
      "('a', 1) ('b', 2) ('c', 3) ('d', 4)\n"
     ]
    }
   ],
   "source": [
    "# zip() function\n",
    "\n",
    "a = ['a', \"b\", 'c', 'd']\n",
    "b = [1, 2, 3, 4]\n",
    "\n",
    "print(*zip(a,b))"
   ]
  },
  {
   "cell_type": "code",
   "execution_count": 19,
   "id": "52bd3e39",
   "metadata": {},
   "outputs": [
    {
     "name": "stdout",
     "output_type": "stream",
     "text": [
      "name: huxoo / age: 22\n",
      "name: dave / age: 28\n",
      "name: john / age: 40\n"
     ]
    }
   ],
   "source": [
    "names = ['huxoo', 'dave', 'john']\n",
    "ages = [22, 28, 40]\n",
    "\n",
    "for n, a in zip(names, ages):\n",
    "    print(f\"name: {n} / age: {a}\")"
   ]
  },
  {
   "cell_type": "code",
   "execution_count": 24,
   "id": "db5a510e",
   "metadata": {},
   "outputs": [
    {
     "name": "stdout",
     "output_type": "stream",
     "text": [
      "[('c', 1), ('b', 3), ('a', 8), ('d', 12)]\n"
     ]
    }
   ],
   "source": [
    "# out of order list\n",
    "\n",
    "irregular_list = [('b', 3), ('a', 8), ('d', 12), ('c', 1)]\n",
    "\n",
    "print(sorted(irregular_list, key = lambda x:x[1]))"
   ]
  },
  {
   "cell_type": "code",
   "execution_count": 26,
   "id": "0aa1ce85",
   "metadata": {},
   "outputs": [
    {
     "name": "stdout",
     "output_type": "stream",
     "text": [
      "[('a', 8), ('b', 3), ('c', 1), ('d', 12)]\n"
     ]
    }
   ],
   "source": [
    "print(sorted(irregular_list, key = lambda x:x[0]))"
   ]
  },
  {
   "cell_type": "markdown",
   "id": "f0aa76c0",
   "metadata": {},
   "source": [
    "## Advanced Functions"
   ]
  },
  {
   "cell_type": "code",
   "execution_count": 28,
   "id": "234bd699",
   "metadata": {},
   "outputs": [
    {
     "data": {
      "text/plain": [
       "611"
      ]
     },
     "execution_count": 28,
     "metadata": {},
     "output_type": "execute_result"
    }
   ],
   "source": [
    "# lambda functions\n",
    "\n",
    "def total(x,y):\n",
    "    return x + y\n",
    "total(246,365)"
   ]
  },
  {
   "cell_type": "code",
   "execution_count": 29,
   "id": "d8c37482",
   "metadata": {},
   "outputs": [
    {
     "name": "stdout",
     "output_type": "stream",
     "text": [
      "<function <lambda> at 0x00000269236FFC10>\n"
     ]
    }
   ],
   "source": [
    "func = lambda x, y: x + y\n",
    "print(func)"
   ]
  },
  {
   "cell_type": "code",
   "execution_count": 30,
   "id": "1bb67a66",
   "metadata": {},
   "outputs": [
    {
     "name": "stdout",
     "output_type": "stream",
     "text": [
      "49\n"
     ]
    }
   ],
   "source": [
    "take_square = lambda x: x ** 2\n",
    "result = take_square(7)\n",
    "print(result)"
   ]
  },
  {
   "cell_type": "code",
   "execution_count": 31,
   "id": "a38a61c8",
   "metadata": {},
   "outputs": [
    {
     "name": "stdout",
     "output_type": "stream",
     "text": [
      "[4, 16, 36, 64, 100]\n"
     ]
    }
   ],
   "source": [
    "# map() function\n",
    "\n",
    "numbers = [2,4,6,8,10]\n",
    "take_square = list(map(lambda x: x ** 2, numbers))\n",
    "print(take_square)"
   ]
  },
  {
   "cell_type": "code",
   "execution_count": 34,
   "id": "9edaf1d9",
   "metadata": {},
   "outputs": [
    {
     "name": "stdout",
     "output_type": "stream",
     "text": [
      "simple love\n",
      "imple love\n",
      "mple love\n",
      "ple love\n",
      "le love\n",
      "e love\n",
      " love\n",
      "love\n",
      "ove\n",
      "ve\n",
      "e\n"
     ]
    },
    {
     "data": {
      "text/plain": [
       "''"
      ]
     },
     "execution_count": 34,
     "metadata": {},
     "output_type": "execute_result"
    }
   ],
   "source": [
    "# Recursive functions #\n",
    "\n",
    "def reduce(s):\n",
    "    if len(s) < 1:\n",
    "        return s\n",
    "    else:\n",
    "        print(s)\n",
    "        return reduce(s[1:])\n",
    "\n",
    "reduce('simple love')"
   ]
  },
  {
   "cell_type": "code",
   "execution_count": 37,
   "id": "c18b5b01",
   "metadata": {},
   "outputs": [
    {
     "name": "stdout",
     "output_type": "stream",
     "text": [
      "Hello world!\n"
     ]
    }
   ],
   "source": [
    "# Nested functions #\n",
    "\n",
    "def printer():\n",
    "    def write(message):\n",
    "        print(message)\n",
    "    return write\n",
    "\n",
    "wy = printer()\n",
    "wy('Hello world!')"
   ]
  },
  {
   "cell_type": "code",
   "execution_count": 38,
   "id": "1e1d1ac1",
   "metadata": {},
   "outputs": [
    {
     "name": "stdout",
     "output_type": "stream",
     "text": [
      "Hi, eartquake!\n"
     ]
    }
   ],
   "source": [
    "wy(\"Hi, eartquake!\")"
   ]
  },
  {
   "cell_type": "code",
   "execution_count": 39,
   "id": "5d36b1a5",
   "metadata": {},
   "outputs": [
    {
     "name": "stdout",
     "output_type": "stream",
     "text": [
      "125\n"
     ]
    }
   ],
   "source": [
    "a = 5\n",
    "b = 25\n",
    "\n",
    "wy(a * b)"
   ]
  },
  {
   "cell_type": "code",
   "execution_count": 48,
   "id": "52477bbe",
   "metadata": {},
   "outputs": [],
   "source": [
    "# Nonlocal expression with nested functions #\n",
    "\n",
    "def scope_func():\n",
    "    nonlocal_variable = 1\n",
    "    def nested_func():\n",
    "        nonlocal_variable = 2\n",
    "        print(nonlocal_variable)\n",
    "    return nested_func"
   ]
  },
  {
   "cell_type": "code",
   "execution_count": 50,
   "id": "ee079e33",
   "metadata": {},
   "outputs": [
    {
     "name": "stdout",
     "output_type": "stream",
     "text": [
      "2\n"
     ]
    }
   ],
   "source": [
    "a = 1\n",
    "\n",
    "def func():\n",
    "    a = 2\n",
    "    print(a)\n",
    "\n",
    "func()"
   ]
  },
  {
   "cell_type": "code",
   "execution_count": 51,
   "id": "f0b569d5",
   "metadata": {},
   "outputs": [
    {
     "name": "stdout",
     "output_type": "stream",
     "text": [
      "1\n"
     ]
    }
   ],
   "source": [
    "a = 1\n",
    "def func():\n",
    "    print(a)\n",
    "func()"
   ]
  },
  {
   "cell_type": "code",
   "execution_count": 53,
   "id": "cec8f5ed",
   "metadata": {},
   "outputs": [
    {
     "name": "stdout",
     "output_type": "stream",
     "text": [
      "2\n"
     ]
    }
   ],
   "source": [
    "a = 1\n",
    "\n",
    "def func():\n",
    "    global a\n",
    "    a += 1\n",
    "    print(a)\n",
    "func()"
   ]
  },
  {
   "cell_type": "code",
   "execution_count": 59,
   "id": "4eae3898",
   "metadata": {},
   "outputs": [
    {
     "data": {
      "text/plain": [
       "34.0"
      ]
     },
     "execution_count": 59,
     "metadata": {},
     "output_type": "execute_result"
    }
   ],
   "source": [
    "# usage area of nested functions\n",
    "\n",
    "def transact(number, dividing, *added):\n",
    "    result = number / dividing\n",
    "    for i in added:\n",
    "        result += i\n",
    "    return result\n",
    "\n",
    "transact(60, 5, 22)"
   ]
  },
  {
   "cell_type": "code",
   "execution_count": 61,
   "id": "f5dcf04f",
   "metadata": {},
   "outputs": [
    {
     "data": {
      "text/plain": [
       "'hi'"
      ]
     },
     "execution_count": 61,
     "metadata": {},
     "output_type": "execute_result"
    }
   ],
   "source": [
    "#identification of generators\n",
    "\n",
    "#yield expression and next functions\n",
    "\n",
    "def generator():\n",
    "    yield \"hi\"\n",
    "    yield \"world!\"\n",
    "\n",
    "nxt = generator()\n",
    "next(nxt)"
   ]
  },
  {
   "cell_type": "code",
   "execution_count": 62,
   "id": "ef06f5f3",
   "metadata": {},
   "outputs": [
    {
     "data": {
      "text/plain": [
       "'world!'"
      ]
     },
     "execution_count": 62,
     "metadata": {},
     "output_type": "execute_result"
    }
   ],
   "source": [
    "next(nxt)"
   ]
  },
  {
   "cell_type": "code",
   "execution_count": 63,
   "id": "6f4b7734",
   "metadata": {},
   "outputs": [
    {
     "ename": "StopIteration",
     "evalue": "",
     "output_type": "error",
     "traceback": [
      "\u001b[1;31m---------------------------------------------------------------------------\u001b[0m",
      "\u001b[1;31mStopIteration\u001b[0m                             Traceback (most recent call last)",
      "Input \u001b[1;32mIn [63]\u001b[0m, in \u001b[0;36m<cell line: 1>\u001b[1;34m()\u001b[0m\n\u001b[1;32m----> 1\u001b[0m \u001b[38;5;28;43mnext\u001b[39;49m\u001b[43m(\u001b[49m\u001b[43mnxt\u001b[49m\u001b[43m)\u001b[49m\n",
      "\u001b[1;31mStopIteration\u001b[0m: "
     ]
    }
   ],
   "source": [
    "next(nxt)"
   ]
  },
  {
   "cell_type": "code",
   "execution_count": 2,
   "id": "a10735ca",
   "metadata": {},
   "outputs": [],
   "source": [
    "def fibonacci():\n",
    "    x = 1\n",
    "    y = 0\n",
    "    z = 0\n",
    "    while True:\n",
    "        z = y\n",
    "        y = x\n",
    "        x = y + z\n",
    "        yield x"
   ]
  },
  {
   "cell_type": "code",
   "execution_count": 3,
   "id": "297b53ca",
   "metadata": {},
   "outputs": [
    {
     "data": {
      "text/plain": [
       "1"
      ]
     },
     "execution_count": 3,
     "metadata": {},
     "output_type": "execute_result"
    }
   ],
   "source": [
    "next(fibonacci())"
   ]
  },
  {
   "cell_type": "code",
   "execution_count": 4,
   "id": "ec601e13",
   "metadata": {},
   "outputs": [
    {
     "name": "stdout",
     "output_type": "stream",
     "text": [
      "1\n",
      "2\n",
      "3\n",
      "5\n",
      "8\n",
      "13\n",
      "21\n",
      "34\n",
      "55\n",
      "89\n",
      "144\n",
      "233\n",
      "377\n",
      "610\n"
     ]
    }
   ],
   "source": [
    "k = 755\n",
    "for i in fibonacci():\n",
    "    if i < k:\n",
    "        print(i)\n",
    "    else:\n",
    "        break"
   ]
  },
  {
   "cell_type": "code",
   "execution_count": 10,
   "id": "2cd66643",
   "metadata": {},
   "outputs": [
    {
     "name": "stdout",
     "output_type": "stream",
     "text": [
      "Hello World!\n",
      "None\n",
      "Hello World!\n",
      "None\n",
      "Hello World!\n",
      "None\n",
      "Hello World!\n",
      "None\n",
      "Hello World!\n",
      "None\n"
     ]
    }
   ],
   "source": [
    "def write(number):\n",
    "    for i in range(number):\n",
    "        print( \"Hello World!\")\n",
    "        yield\n",
    "        \n",
    "y = write(5)\n",
    "for i in y:\n",
    "    print(i)"
   ]
  },
  {
   "cell_type": "code",
   "execution_count": 13,
   "id": "32b4a2bc",
   "metadata": {},
   "outputs": [
    {
     "name": "stdout",
     "output_type": "stream",
     "text": [
      "generator2 started\n",
      "generator1 started\n",
      "generator1 finished\n",
      "generator2 finished\n"
     ]
    }
   ],
   "source": [
    "# 'yield from' expression:\n",
    "\n",
    "def generator1():\n",
    "    yield \"generator1 started\"\n",
    "    yield \"generator1 finished\"\n",
    "\n",
    "def generator2():\n",
    "    yield \"generator2 started\"\n",
    "    yield from generator1()\n",
    "    yield \"generator2 finished\"\n",
    "\n",
    "for i in generator2():\n",
    "    print(i)"
   ]
  },
  {
   "cell_type": "code",
   "execution_count": 15,
   "id": "b4d5337e",
   "metadata": {},
   "outputs": [
    {
     "name": "stdout",
     "output_type": "stream",
     "text": [
      "generator1 started\n",
      "generator1 finished\n"
     ]
    }
   ],
   "source": [
    "for i in generator1():\n",
    "    print(i)"
   ]
  },
  {
   "cell_type": "code",
   "execution_count": null,
   "id": "d57075a2",
   "metadata": {},
   "outputs": [],
   "source": []
  }
 ],
 "metadata": {
  "kernelspec": {
   "display_name": "Python 3 (ipykernel)",
   "language": "python",
   "name": "python3"
  },
  "language_info": {
   "codemirror_mode": {
    "name": "ipython",
    "version": 3
   },
   "file_extension": ".py",
   "mimetype": "text/x-python",
   "name": "python",
   "nbconvert_exporter": "python",
   "pygments_lexer": "ipython3",
   "version": "3.9.12"
  }
 },
 "nbformat": 4,
 "nbformat_minor": 5
}
