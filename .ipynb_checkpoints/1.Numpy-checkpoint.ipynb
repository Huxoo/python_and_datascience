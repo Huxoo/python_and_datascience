{
 "cells": [
  {
   "cell_type": "markdown",
   "id": "020de9fc",
   "metadata": {},
   "source": [
    "### Numpy Library "
   ]
  },
  {
   "cell_type": "code",
   "execution_count": 2,
   "id": "5869986c",
   "metadata": {},
   "outputs": [
    {
     "name": "stdout",
     "output_type": "stream",
     "text": [
      "[ 5 12 21 32]\n"
     ]
    }
   ],
   "source": [
    "# Recognise numpy library #\n",
    "\n",
    "import numpy as np\n",
    "\n",
    "a = np.array([1,2,3,4])\n",
    "b = np.array([5,6,7,8])\n",
    "print(a * b)"
   ]
  },
  {
   "cell_type": "code",
   "execution_count": 3,
   "id": "0ca00987",
   "metadata": {},
   "outputs": [
    {
     "name": "stdout",
     "output_type": "stream",
     "text": [
      "[1 2 3 4]\n"
     ]
    }
   ],
   "source": [
    "# Numpy array: 'create array from list'\n",
    "\n",
    "a = np.array([1,2,3,4])\n",
    "print(a)"
   ]
  },
  {
   "cell_type": "code",
   "execution_count": 5,
   "id": "269a1275",
   "metadata": {},
   "outputs": [
    {
     "name": "stdout",
     "output_type": "stream",
     "text": [
      "[1.  2.5 3.  4. ]\n"
     ]
    }
   ],
   "source": [
    "a = np.array([1, 2.5, 3, 4])\n",
    "print(a)"
   ]
  },
  {
   "cell_type": "code",
   "execution_count": 6,
   "id": "f1d68c0c",
   "metadata": {},
   "outputs": [
    {
     "name": "stdout",
     "output_type": "stream",
     "text": [
      "[ 3  7  9 11]\n"
     ]
    }
   ],
   "source": [
    "a = np.array([3.45, 7, 9, 11.25], dtype = \"int\")\n",
    "print(a)"
   ]
  },
  {
   "cell_type": "code",
   "execution_count": 7,
   "id": "cf9ed720",
   "metadata": {},
   "outputs": [
    {
     "data": {
      "text/plain": [
       "array([0, 0, 0, 0, 0, 0, 0, 0, 0, 0])"
      ]
     },
     "execution_count": 7,
     "metadata": {},
     "output_type": "execute_result"
    }
   ],
   "source": [
    "# create array from zero\n",
    "\n",
    "np.zeros(10, dtype = \"int\")"
   ]
  },
  {
   "cell_type": "code",
   "execution_count": 8,
   "id": "d58b0d0c",
   "metadata": {},
   "outputs": [
    {
     "data": {
      "text/plain": [
       "array([[1, 1, 1, 1, 1],\n",
       "       [1, 1, 1, 1, 1],\n",
       "       [1, 1, 1, 1, 1]])"
      ]
     },
     "execution_count": 8,
     "metadata": {},
     "output_type": "execute_result"
    }
   ],
   "source": [
    "np.ones((3,5), dtype = 'int') # create ones array"
   ]
  },
  {
   "cell_type": "code",
   "execution_count": 9,
   "id": "5cbe94b4",
   "metadata": {},
   "outputs": [
    {
     "data": {
      "text/plain": [
       "array([['a', 'a', 'a', 'a', 'a'],\n",
       "       ['a', 'a', 'a', 'a', 'a'],\n",
       "       ['a', 'a', 'a', 'a', 'a']], dtype='<U1')"
      ]
     },
     "execution_count": 9,
     "metadata": {},
     "output_type": "execute_result"
    }
   ],
   "source": [
    "np.full((3,5), 'a')"
   ]
  },
  {
   "cell_type": "code",
   "execution_count": 11,
   "id": "ad5fd58b",
   "metadata": {},
   "outputs": [
    {
     "data": {
      "text/plain": [
       "array([ 0,  3,  6,  9, 12, 15, 18, 21, 24, 27, 30])"
      ]
     },
     "execution_count": 11,
     "metadata": {},
     "output_type": "execute_result"
    }
   ],
   "source": [
    "np.arange(0,33,3) # start three by three from zero until thirty three"
   ]
  },
  {
   "cell_type": "code",
   "execution_count": 12,
   "id": "d06dab99",
   "metadata": {},
   "outputs": [
    {
     "data": {
      "text/plain": [
       "array([0.        , 0.11111111, 0.22222222, 0.33333333, 0.44444444,\n",
       "       0.55555556, 0.66666667, 0.77777778, 0.88888889, 1.        ])"
      ]
     },
     "execution_count": 12,
     "metadata": {},
     "output_type": "execute_result"
    }
   ],
   "source": [
    "np.linspace(0,1,10) # between zero and one "
   ]
  },
  {
   "cell_type": "code",
   "execution_count": 13,
   "id": "42f86048",
   "metadata": {},
   "outputs": [
    {
     "data": {
      "text/plain": [
       "array([[14.97694459, 12.19851452,  7.90290891, 13.2903765 ],\n",
       "       [ 6.50740046, 11.92025184,  5.81557366,  8.28505815],\n",
       "       [10.8350876 , 10.28220893,  7.94070231, 12.99842244]])"
      ]
     },
     "execution_count": 13,
     "metadata": {},
     "output_type": "execute_result"
    }
   ],
   "source": [
    "np.random.normal(10,4,(3,4)) # avarage 10, standart deviation 4"
   ]
  },
  {
   "cell_type": "code",
   "execution_count": 14,
   "id": "d61d1734",
   "metadata": {},
   "outputs": [
    {
     "data": {
      "text/plain": [
       "array([[2, 9, 4],\n",
       "       [0, 4, 6],\n",
       "       [5, 7, 8]])"
      ]
     },
     "execution_count": 14,
     "metadata": {},
     "output_type": "execute_result"
    }
   ],
   "source": [
    "np.random.randint(0,10,(3,3)) # random numbers"
   ]
  },
  {
   "cell_type": "markdown",
   "id": "fb49f57f",
   "metadata": {},
   "source": [
    "### Array Features"
   ]
  },
  {
   "cell_type": "code",
   "execution_count": 15,
   "id": "30eb38cb",
   "metadata": {},
   "outputs": [],
   "source": [
    "# ndim: give number of dimension\n",
    "# shape: give info of dimension\n",
    "# size: give total number of elements\n",
    "# dtype: give array data type"
   ]
  },
  {
   "cell_type": "code",
   "execution_count": 16,
   "id": "53daff0b",
   "metadata": {},
   "outputs": [
    {
     "name": "stdout",
     "output_type": "stream",
     "text": [
      "1\n"
     ]
    }
   ],
   "source": [
    "a = np.random.randint(10,size=10)\n",
    "print(a.ndim)"
   ]
  },
  {
   "cell_type": "code",
   "execution_count": 17,
   "id": "e5393f2c",
   "metadata": {},
   "outputs": [
    {
     "name": "stdout",
     "output_type": "stream",
     "text": [
      "10\n"
     ]
    }
   ],
   "source": [
    "print(a.size)"
   ]
  },
  {
   "cell_type": "code",
   "execution_count": 18,
   "id": "e2a0b8c6",
   "metadata": {},
   "outputs": [
    {
     "name": "stdout",
     "output_type": "stream",
     "text": [
      "int32\n"
     ]
    }
   ],
   "source": [
    "print(a.dtype)"
   ]
  },
  {
   "cell_type": "markdown",
   "id": "96198f4f",
   "metadata": {},
   "source": [
    "### restatement (reshaping) "
   ]
  },
  {
   "cell_type": "code",
   "execution_count": 20,
   "id": "df57bab6",
   "metadata": {},
   "outputs": [
    {
     "name": "stdout",
     "output_type": "stream",
     "text": [
      "[[1 2 3]\n",
      " [4 5 6]\n",
      " [7 8 9]]\n"
     ]
    }
   ],
   "source": [
    "a = np.arange(1,10).reshape((3,3))\n",
    "print(a)"
   ]
  },
  {
   "cell_type": "markdown",
   "id": "7d16463f",
   "metadata": {},
   "source": [
    "### Concatenation (array joining) "
   ]
  },
  {
   "cell_type": "code",
   "execution_count": 21,
   "id": "654b475e",
   "metadata": {},
   "outputs": [
    {
     "name": "stdout",
     "output_type": "stream",
     "text": [
      "[1 2 3 4 5 6 7 8 9]\n"
     ]
    }
   ],
   "source": [
    "x = np.array([1,2,3])\n",
    "y = np.array([4,5,6])\n",
    "z = np.array([7,8,9])\n",
    "\n",
    "j_array = np.concatenate([x,y,z])\n",
    "print(j_array)"
   ]
  },
  {
   "cell_type": "code",
   "execution_count": 23,
   "id": "6e9f4176",
   "metadata": {},
   "outputs": [
    {
     "data": {
      "text/plain": [
       "array([[1, 2, 3],\n",
       "       [4, 5, 6],\n",
       "       [1, 2, 3],\n",
       "       [4, 5, 6]])"
      ]
     },
     "execution_count": 23,
     "metadata": {},
     "output_type": "execute_result"
    }
   ],
   "source": [
    "# two dimension joining\n",
    "\n",
    "a = np.array([[1,2,3],\n",
    "             [4,5,6]])\n",
    "np.concatenate([a,a])"
   ]
  },
  {
   "cell_type": "code",
   "execution_count": 25,
   "id": "9935e58b",
   "metadata": {},
   "outputs": [
    {
     "data": {
      "text/plain": [
       "array([[ 1,  2,  3,  5,  6,  7],\n",
       "       [ 4,  5,  6,  8,  9, 10]])"
      ]
     },
     "execution_count": 25,
     "metadata": {},
     "output_type": "execute_result"
    }
   ],
   "source": [
    "b = np.array([[5,6,7],\n",
    "             [8,9,10]])\n",
    "np.concatenate([a,b], axis=1)"
   ]
  },
  {
   "cell_type": "markdown",
   "id": "7cfde8d7",
   "metadata": {},
   "source": [
    "### array seperation process (splitting)"
   ]
  },
  {
   "cell_type": "code",
   "execution_count": 108,
   "id": "fc2df1d2",
   "metadata": {},
   "outputs": [
    {
     "data": {
      "text/plain": [
       "[array([1, 2, 3]), array([99, 99]), array([3, 2, 1])]"
      ]
     },
     "execution_count": 108,
     "metadata": {},
     "output_type": "execute_result"
    }
   ],
   "source": [
    "x = np.array([1,2,3,99,99,3,2,1])\n",
    "np.split(x, [3,5])"
   ]
  },
  {
   "cell_type": "code",
   "execution_count": 109,
   "id": "530a9be2",
   "metadata": {},
   "outputs": [
    {
     "data": {
      "text/plain": [
       "[array([], dtype=int32),\n",
       " array([1, 2, 3]),\n",
       " array([99]),\n",
       " array([99,  3,  2,  1])]"
      ]
     },
     "execution_count": 109,
     "metadata": {},
     "output_type": "execute_result"
    }
   ],
   "source": [
    "np.split(x, [0,3,4])"
   ]
  },
  {
   "cell_type": "code",
   "execution_count": 110,
   "id": "b091b806",
   "metadata": {},
   "outputs": [
    {
     "name": "stdout",
     "output_type": "stream",
     "text": [
      "[1 2 3]\n",
      "[99 99]\n",
      "[3 2 1]\n"
     ]
    }
   ],
   "source": [
    "a, b, c = np.split(x, [3, 5])\n",
    "print(a)\n",
    "print(b)\n",
    "print(c)"
   ]
  },
  {
   "cell_type": "code",
   "execution_count": 111,
   "id": "0e823735",
   "metadata": {},
   "outputs": [
    {
     "name": "stdout",
     "output_type": "stream",
     "text": [
      "[ 1  2  3 99 99  3  2  1]\n"
     ]
    }
   ],
   "source": [
    "spce_array = np.concatenate([a,b,c])\n",
    "print(spce_array)"
   ]
  },
  {
   "cell_type": "code",
   "execution_count": 112,
   "id": "c7d39dab",
   "metadata": {},
   "outputs": [
    {
     "name": "stdout",
     "output_type": "stream",
     "text": [
      "1\n",
      "(8,)\n",
      "8\n",
      "int32\n"
     ]
    }
   ],
   "source": [
    "print(spce_array.ndim)\n",
    "print(spce_array.shape)\n",
    "print(spce_array.size)\n",
    "print(spce_array.dtype)"
   ]
  },
  {
   "cell_type": "code",
   "execution_count": 113,
   "id": "34487dba",
   "metadata": {},
   "outputs": [
    {
     "name": "stdout",
     "output_type": "stream",
     "text": [
      "[array([[0, 1, 2, 3],\n",
      "       [4, 5, 6, 7]]), array([[ 8,  9, 10, 11],\n",
      "       [12, 13, 14, 15]])]\n"
     ]
    }
   ],
   "source": [
    "# vsplit hsplit (vertical - horizontal)\n",
    "\n",
    "a = np.arange(16).reshape(4,4)\n",
    "vert_a = np.vsplit(a, [2])\n",
    "print(vert_a)"
   ]
  },
  {
   "cell_type": "code",
   "execution_count": 114,
   "id": "d4d1bc4f",
   "metadata": {},
   "outputs": [
    {
     "name": "stdout",
     "output_type": "stream",
     "text": [
      "[array([[ 0,  1,  2,  3],\n",
      "       [ 4,  5,  6,  7],\n",
      "       [ 8,  9, 10, 11],\n",
      "       [12, 13, 14, 15]]), array([], shape=(4, 0), dtype=int32)]\n"
     ]
    }
   ],
   "source": [
    "hor_a = np.hsplit(a, [4])\n",
    "print(hor_a)"
   ]
  },
  {
   "cell_type": "markdown",
   "id": "2158ba43",
   "metadata": {},
   "source": [
    "### array sort (sorting)"
   ]
  },
  {
   "cell_type": "code",
   "execution_count": 115,
   "id": "e6bd8315",
   "metadata": {},
   "outputs": [
    {
     "name": "stdout",
     "output_type": "stream",
     "text": [
      "[1 1 3 4 5 6 7]\n"
     ]
    }
   ],
   "source": [
    "x = np.array([3,5,1,7,1,4,6])\n",
    "srt_x = np.sort(x)\n",
    "print(srt_x)"
   ]
  },
  {
   "cell_type": "code",
   "execution_count": 116,
   "id": "dd3a2a7f",
   "metadata": {},
   "outputs": [
    {
     "name": "stdout",
     "output_type": "stream",
     "text": [
      "[[19.2266934  22.21660289 28.33425331]\n",
      " [19.1701473  22.01517946 24.37067236]\n",
      " [14.81633754 16.64223748 21.71119752]]\n"
     ]
    }
   ],
   "source": [
    "rnd_num = np.random.normal(20, 5, [3,3])\n",
    "srt_num = np.sort(rnd_num, axis = 1)\n",
    "print(srt_num)"
   ]
  },
  {
   "cell_type": "markdown",
   "id": "0d270573",
   "metadata": {},
   "source": [
    "### accesing two-dimensional arrays with index"
   ]
  },
  {
   "cell_type": "code",
   "execution_count": 117,
   "id": "1939a282",
   "metadata": {},
   "outputs": [
    {
     "name": "stdout",
     "output_type": "stream",
     "text": [
      "[[0 1 2]\n",
      " [3 4 5]\n",
      " [6 7 8]]\n"
     ]
    }
   ],
   "source": [
    "x = np.arange(9).reshape([3,3])\n",
    "print(x)"
   ]
  },
  {
   "cell_type": "code",
   "execution_count": 118,
   "id": "44aa5741",
   "metadata": {},
   "outputs": [
    {
     "data": {
      "text/plain": [
       "5"
      ]
     },
     "execution_count": 118,
     "metadata": {},
     "output_type": "execute_result"
    }
   ],
   "source": [
    "x[1,2]"
   ]
  },
  {
   "cell_type": "code",
   "execution_count": 119,
   "id": "d080b64d",
   "metadata": {},
   "outputs": [
    {
     "data": {
      "text/plain": [
       "7"
      ]
     },
     "execution_count": 119,
     "metadata": {},
     "output_type": "execute_result"
    }
   ],
   "source": [
    "x[2,1]"
   ]
  },
  {
   "cell_type": "code",
   "execution_count": 120,
   "id": "d9301cf0",
   "metadata": {},
   "outputs": [
    {
     "name": "stdout",
     "output_type": "stream",
     "text": [
      "[[9 1]\n",
      " [7 3]\n",
      " [1 6]]\n"
     ]
    }
   ],
   "source": [
    "y = np.random.randint(10, size = (5,5))\n",
    "lower_y = y[0:3, 0:2].copy()\n",
    "print(lower_y)"
   ]
  },
  {
   "cell_type": "code",
   "execution_count": 121,
   "id": "cef536dd",
   "metadata": {},
   "outputs": [
    {
     "name": "stdout",
     "output_type": "stream",
     "text": [
      "[[9 1]\n",
      " [7 3]\n",
      " [1 6]]\n"
     ]
    }
   ],
   "source": [
    "lower_y[0:0] = 99\n",
    "print(lower_y)"
   ]
  },
  {
   "cell_type": "markdown",
   "id": "ef5b54b5",
   "metadata": {},
   "source": [
    "### accessing elements with Fancy Index"
   ]
  },
  {
   "cell_type": "code",
   "execution_count": 122,
   "id": "e4970bab",
   "metadata": {},
   "outputs": [
    {
     "name": "stdout",
     "output_type": "stream",
     "text": [
      "[ 0  3  6  9 12 15 18 21 24 27]\n"
     ]
    }
   ],
   "source": [
    "x= np.arange(0,30,3)\n",
    "print(x)"
   ]
  },
  {
   "cell_type": "code",
   "execution_count": 123,
   "id": "3935018b",
   "metadata": {},
   "outputs": [
    {
     "data": {
      "text/plain": [
       "array([ 3,  9, 15])"
      ]
     },
     "execution_count": 123,
     "metadata": {},
     "output_type": "execute_result"
    }
   ],
   "source": [
    "take_bring = [1,3,5]\n",
    "x[take_bring]"
   ]
  },
  {
   "cell_type": "code",
   "execution_count": 124,
   "id": "b6fa8765",
   "metadata": {},
   "outputs": [
    {
     "data": {
      "text/plain": [
       "array([1, 5])"
      ]
     },
     "execution_count": 124,
     "metadata": {},
     "output_type": "execute_result"
    }
   ],
   "source": [
    "# two-dimensional Fancy:\n",
    "\n",
    "x = np.arange(9).reshape([3,3])\n",
    "line = np.array([0,1])\n",
    "colm = np.array([1,2])\n",
    "x[line,colm]"
   ]
  },
  {
   "cell_type": "code",
   "execution_count": 125,
   "id": "a635b81e",
   "metadata": {},
   "outputs": [
    {
     "data": {
      "text/plain": [
       "array([3, 4, 5])"
      ]
     },
     "execution_count": 125,
     "metadata": {},
     "output_type": "execute_result"
    }
   ],
   "source": [
    "# conditional element proccess.\n",
    "\n",
    "z = np.array([1,2,3,4,5])\n",
    "z[z > 2]"
   ]
  },
  {
   "cell_type": "code",
   "execution_count": 126,
   "id": "64b640cb",
   "metadata": {},
   "outputs": [
    {
     "data": {
      "text/plain": [
       "array([1, 2, 3])"
      ]
     },
     "execution_count": 126,
     "metadata": {},
     "output_type": "execute_result"
    }
   ],
   "source": [
    "z[z < 4]"
   ]
  },
  {
   "cell_type": "code",
   "execution_count": 127,
   "id": "ba8ee8e2",
   "metadata": {},
   "outputs": [
    {
     "data": {
      "text/plain": [
       "array([1, 2, 4, 5])"
      ]
     },
     "execution_count": 127,
     "metadata": {},
     "output_type": "execute_result"
    }
   ],
   "source": [
    "z[z != 3]"
   ]
  },
  {
   "cell_type": "code",
   "execution_count": 128,
   "id": "3e2ed9fc",
   "metadata": {},
   "outputs": [
    {
     "name": "stdout",
     "output_type": "stream",
     "text": [
      "[1 3 5 7 9]\n"
     ]
    }
   ],
   "source": [
    "# mathematical proccess:\n",
    "\n",
    "x = np.array([2,4,6,8,10])\n",
    "print(x - 1)"
   ]
  },
  {
   "cell_type": "code",
   "execution_count": 129,
   "id": "36984435",
   "metadata": {},
   "outputs": [
    {
     "name": "stdout",
     "output_type": "stream",
     "text": [
      "[10 20 30 40 50]\n"
     ]
    }
   ],
   "source": [
    "print(x * 5)"
   ]
  },
  {
   "cell_type": "code",
   "execution_count": 130,
   "id": "36c1592a",
   "metadata": {},
   "outputs": [
    {
     "name": "stdout",
     "output_type": "stream",
     "text": [
      "[ -2  -4  -6  -8 -10]\n"
     ]
    }
   ],
   "source": [
    "neg_val =  x * -1\n",
    "print(neg_val)"
   ]
  },
  {
   "cell_type": "code",
   "execution_count": 131,
   "id": "e927f9ca",
   "metadata": {},
   "outputs": [
    {
     "data": {
      "text/plain": [
       "array([ 2,  4,  6,  8, 10])"
      ]
     },
     "execution_count": 131,
     "metadata": {},
     "output_type": "execute_result"
    }
   ],
   "source": [
    "np.absolute(neg_val)"
   ]
  },
  {
   "cell_type": "code",
   "execution_count": 132,
   "id": "8b2fd8c1",
   "metadata": {},
   "outputs": [
    {
     "data": {
      "text/plain": [
       "0.9589157234143065"
      ]
     },
     "execution_count": 132,
     "metadata": {},
     "output_type": "execute_result"
    }
   ],
   "source": [
    "np.sin(360)"
   ]
  },
  {
   "cell_type": "code",
   "execution_count": 133,
   "id": "4018f594",
   "metadata": {},
   "outputs": [
    {
     "data": {
      "text/plain": [
       "-0.5984600690578581"
      ]
     },
     "execution_count": 133,
     "metadata": {},
     "output_type": "execute_result"
    }
   ],
   "source": [
    "np.cos(180)"
   ]
  },
  {
   "cell_type": "code",
   "execution_count": 134,
   "id": "d3793093",
   "metadata": {},
   "outputs": [
    {
     "data": {
      "text/plain": [
       "array([0.        , 0.69314718, 1.09861229])"
      ]
     },
     "execution_count": 134,
     "metadata": {},
     "output_type": "execute_result"
    }
   ],
   "source": [
    "x = np.array([1,2,3])\n",
    "np.log(x)"
   ]
  },
  {
   "cell_type": "code",
   "execution_count": 135,
   "id": "91cb2620",
   "metadata": {},
   "outputs": [
    {
     "data": {
      "text/plain": [
       "array([0.       , 1.       , 1.5849625])"
      ]
     },
     "execution_count": 135,
     "metadata": {},
     "output_type": "execute_result"
    }
   ],
   "source": [
    "np.log2(x)"
   ]
  },
  {
   "cell_type": "code",
   "execution_count": 136,
   "id": "a4f4952c",
   "metadata": {},
   "outputs": [
    {
     "data": {
      "text/plain": [
       "array([0.        , 0.30103   , 0.47712125, 0.60205999, 0.69897   ])"
      ]
     },
     "execution_count": 136,
     "metadata": {},
     "output_type": "execute_result"
    }
   ],
   "source": [
    "np.log10(z)"
   ]
  },
  {
   "cell_type": "markdown",
   "id": "0bc228d5",
   "metadata": {},
   "source": [
    "### solve two unknows equation with Numpy.\n"
   ]
  },
  {
   "cell_type": "code",
   "execution_count": 137,
   "id": "9ef8a5ab",
   "metadata": {},
   "outputs": [
    {
     "name": "stdout",
     "output_type": "stream",
     "text": [
      "[1.85714286 2.71428571]\n"
     ]
    }
   ],
   "source": [
    "# 5x + y = 12\n",
    "# x + 3y = 10\n",
    "\n",
    "a = np.array([[5,1], [1,3]])\n",
    "b = np.array([12,10])\n",
    "answer = np.linalg.solve(a,b)\n",
    "print(answer)"
   ]
  },
  {
   "cell_type": "code",
   "execution_count": 138,
   "id": "2db515c7",
   "metadata": {},
   "outputs": [
    {
     "name": "stdout",
     "output_type": "stream",
     "text": [
      "[1. 2.]\n"
     ]
    }
   ],
   "source": [
    "# 3x + y = 5\n",
    "# x + 3y = 7\n",
    "\n",
    "a = np.array([[3,1], [1,3]])\n",
    "b = np.array([5,7])\n",
    "ans = np.linalg.solve(a,b)\n",
    "print(ans)"
   ]
  },
  {
   "cell_type": "code",
   "execution_count": 139,
   "id": "bef5478b",
   "metadata": {},
   "outputs": [
    {
     "name": "stdout",
     "output_type": "stream",
     "text": [
      "[ 6 15 24]\n"
     ]
    }
   ],
   "source": [
    "array_1 = np.arange(1,10).reshape(3,3)\n",
    "row_total = array_1.sum(axis = 1)\n",
    "print(row_total)"
   ]
  },
  {
   "cell_type": "code",
   "execution_count": null,
   "id": "bcb63164",
   "metadata": {},
   "outputs": [],
   "source": []
  }
 ],
 "metadata": {
  "kernelspec": {
   "display_name": "Python 3 (ipykernel)",
   "language": "python",
   "name": "python3"
  },
  "language_info": {
   "codemirror_mode": {
    "name": "ipython",
    "version": 3
   },
   "file_extension": ".py",
   "mimetype": "text/x-python",
   "name": "python",
   "nbconvert_exporter": "python",
   "pygments_lexer": "ipython3",
   "version": "3.9.12"
  }
 },
 "nbformat": 4,
 "nbformat_minor": 5
}
