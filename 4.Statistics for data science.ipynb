{
 "cells": [
  {
   "cell_type": "markdown",
   "id": "8a62d582",
   "metadata": {},
   "source": [
    "## Statistical programming"
   ]
  },
  {
   "cell_type": "code",
   "execution_count": 4,
   "id": "97d43b78",
   "metadata": {},
   "outputs": [
    {
     "data": {
      "text/plain": [
       "array([31, 50,  7, 22, 74, 36, 61, 34, 77, 33])"
      ]
     },
     "execution_count": 4,
     "metadata": {},
     "output_type": "execute_result"
    }
   ],
   "source": [
    "import numpy as np\n",
    "\n",
    "population = np.random.randint(0,80,25000) # for example, district with a population of 25.000 people\n",
    "population[0:10] # will do age estimate"
   ]
  },
  {
   "cell_type": "code",
   "execution_count": 5,
   "id": "20330f1b",
   "metadata": {},
   "outputs": [],
   "source": [
    "np.random.seed(10) # seed func prevents random number from repeating"
   ]
  },
  {
   "cell_type": "code",
   "execution_count": 8,
   "id": "a610f523",
   "metadata": {},
   "outputs": [
    {
     "data": {
      "text/plain": [
       "44.44"
      ]
     },
     "execution_count": 8,
     "metadata": {},
     "output_type": "execute_result"
    }
   ],
   "source": [
    "np.random.seed(115)\n",
    "sample = np.random.choice(a = population, size = 100)\n",
    "sample.mean() # the average age of 25.000 people in the district is 44."
   ]
  },
  {
   "cell_type": "code",
   "execution_count": 9,
   "id": "9c7437be",
   "metadata": {},
   "outputs": [
    {
     "data": {
      "text/plain": [
       "39.81484"
      ]
     },
     "execution_count": 9,
     "metadata": {},
     "output_type": "execute_result"
    }
   ],
   "source": [
    "population.mean()"
   ]
  },
  {
   "cell_type": "markdown",
   "id": "713408a4",
   "metadata": {},
   "source": [
    "### descriptive statistic sample"
   ]
  },
  {
   "cell_type": "code",
   "execution_count": 10,
   "id": "ad4ef607",
   "metadata": {},
   "outputs": [
    {
     "data": {
      "text/html": [
       "<div>\n",
       "<style scoped>\n",
       "    .dataframe tbody tr th:only-of-type {\n",
       "        vertical-align: middle;\n",
       "    }\n",
       "\n",
       "    .dataframe tbody tr th {\n",
       "        vertical-align: top;\n",
       "    }\n",
       "\n",
       "    .dataframe thead th {\n",
       "        text-align: right;\n",
       "    }\n",
       "</style>\n",
       "<table border=\"1\" class=\"dataframe\">\n",
       "  <thead>\n",
       "    <tr style=\"text-align: right;\">\n",
       "      <th></th>\n",
       "      <th>count</th>\n",
       "      <th>mean</th>\n",
       "      <th>std</th>\n",
       "      <th>min</th>\n",
       "      <th>25%</th>\n",
       "      <th>50%</th>\n",
       "      <th>75%</th>\n",
       "      <th>max</th>\n",
       "    </tr>\n",
       "  </thead>\n",
       "  <tbody>\n",
       "    <tr>\n",
       "      <th>total_bill</th>\n",
       "      <td>244.0</td>\n",
       "      <td>19.785943</td>\n",
       "      <td>8.902412</td>\n",
       "      <td>3.07</td>\n",
       "      <td>13.3475</td>\n",
       "      <td>17.795</td>\n",
       "      <td>24.1275</td>\n",
       "      <td>50.81</td>\n",
       "    </tr>\n",
       "    <tr>\n",
       "      <th>tip</th>\n",
       "      <td>244.0</td>\n",
       "      <td>2.998279</td>\n",
       "      <td>1.383638</td>\n",
       "      <td>1.00</td>\n",
       "      <td>2.0000</td>\n",
       "      <td>2.900</td>\n",
       "      <td>3.5625</td>\n",
       "      <td>10.00</td>\n",
       "    </tr>\n",
       "    <tr>\n",
       "      <th>size</th>\n",
       "      <td>244.0</td>\n",
       "      <td>2.569672</td>\n",
       "      <td>0.951100</td>\n",
       "      <td>1.00</td>\n",
       "      <td>2.0000</td>\n",
       "      <td>2.000</td>\n",
       "      <td>3.0000</td>\n",
       "      <td>6.00</td>\n",
       "    </tr>\n",
       "  </tbody>\n",
       "</table>\n",
       "</div>"
      ],
      "text/plain": [
       "            count       mean       std   min      25%     50%      75%    max\n",
       "total_bill  244.0  19.785943  8.902412  3.07  13.3475  17.795  24.1275  50.81\n",
       "tip         244.0   2.998279  1.383638  1.00   2.0000   2.900   3.5625  10.00\n",
       "size        244.0   2.569672  0.951100  1.00   2.0000   2.000   3.0000   6.00"
      ]
     },
     "execution_count": 10,
     "metadata": {},
     "output_type": "execute_result"
    }
   ],
   "source": [
    "import seaborn as sns\n",
    "import researchpy as rp\n",
    "\n",
    "tips = sns.load_dataset(\"tips\")\n",
    "df = tips.copy()\n",
    "\n",
    "df.describe().T"
   ]
  },
  {
   "cell_type": "code",
   "execution_count": 11,
   "id": "3512a366",
   "metadata": {},
   "outputs": [
    {
     "name": "stdout",
     "output_type": "stream",
     "text": [
      "\n",
      "\n"
     ]
    },
    {
     "data": {
      "text/html": [
       "<div>\n",
       "<style scoped>\n",
       "    .dataframe tbody tr th:only-of-type {\n",
       "        vertical-align: middle;\n",
       "    }\n",
       "\n",
       "    .dataframe tbody tr th {\n",
       "        vertical-align: top;\n",
       "    }\n",
       "\n",
       "    .dataframe thead th {\n",
       "        text-align: right;\n",
       "    }\n",
       "</style>\n",
       "<table border=\"1\" class=\"dataframe\">\n",
       "  <thead>\n",
       "    <tr style=\"text-align: right;\">\n",
       "      <th></th>\n",
       "      <th>Variable</th>\n",
       "      <th>N</th>\n",
       "      <th>Mean</th>\n",
       "      <th>SD</th>\n",
       "      <th>SE</th>\n",
       "      <th>95% Conf.</th>\n",
       "      <th>Interval</th>\n",
       "    </tr>\n",
       "  </thead>\n",
       "  <tbody>\n",
       "    <tr>\n",
       "      <th>0</th>\n",
       "      <td>total_bill</td>\n",
       "      <td>244.0</td>\n",
       "      <td>19.7859</td>\n",
       "      <td>8.9024</td>\n",
       "      <td>0.5699</td>\n",
       "      <td>18.6633</td>\n",
       "      <td>20.9086</td>\n",
       "    </tr>\n",
       "    <tr>\n",
       "      <th>1</th>\n",
       "      <td>tip</td>\n",
       "      <td>244.0</td>\n",
       "      <td>2.9983</td>\n",
       "      <td>1.3836</td>\n",
       "      <td>0.0886</td>\n",
       "      <td>2.8238</td>\n",
       "      <td>3.1728</td>\n",
       "    </tr>\n",
       "    <tr>\n",
       "      <th>2</th>\n",
       "      <td>size</td>\n",
       "      <td>244.0</td>\n",
       "      <td>2.5697</td>\n",
       "      <td>0.9511</td>\n",
       "      <td>0.0609</td>\n",
       "      <td>2.4497</td>\n",
       "      <td>2.6896</td>\n",
       "    </tr>\n",
       "  </tbody>\n",
       "</table>\n",
       "</div>"
      ],
      "text/plain": [
       "     Variable      N     Mean      SD      SE  95% Conf.  Interval\n",
       "0  total_bill  244.0  19.7859  8.9024  0.5699    18.6633   20.9086\n",
       "1         tip  244.0   2.9983  1.3836  0.0886     2.8238    3.1728\n",
       "2        size  244.0   2.5697  0.9511  0.0609     2.4497    2.6896"
      ]
     },
     "execution_count": 11,
     "metadata": {},
     "output_type": "execute_result"
    }
   ],
   "source": [
    "rp.summary_cont(df[[\"total_bill\", \"tip\", \"size\"]])"
   ]
  },
  {
   "cell_type": "code",
   "execution_count": 13,
   "id": "9da7af0f",
   "metadata": {},
   "outputs": [
    {
     "data": {
      "text/html": [
       "<div>\n",
       "<style scoped>\n",
       "    .dataframe tbody tr th:only-of-type {\n",
       "        vertical-align: middle;\n",
       "    }\n",
       "\n",
       "    .dataframe tbody tr th {\n",
       "        vertical-align: top;\n",
       "    }\n",
       "\n",
       "    .dataframe thead th {\n",
       "        text-align: right;\n",
       "    }\n",
       "</style>\n",
       "<table border=\"1\" class=\"dataframe\">\n",
       "  <thead>\n",
       "    <tr style=\"text-align: right;\">\n",
       "      <th></th>\n",
       "      <th>Variable</th>\n",
       "      <th>Outcome</th>\n",
       "      <th>Count</th>\n",
       "      <th>Percent</th>\n",
       "    </tr>\n",
       "  </thead>\n",
       "  <tbody>\n",
       "    <tr>\n",
       "      <th>0</th>\n",
       "      <td>sex</td>\n",
       "      <td>Male</td>\n",
       "      <td>157</td>\n",
       "      <td>64.34</td>\n",
       "    </tr>\n",
       "    <tr>\n",
       "      <th>1</th>\n",
       "      <td></td>\n",
       "      <td>Female</td>\n",
       "      <td>87</td>\n",
       "      <td>35.66</td>\n",
       "    </tr>\n",
       "    <tr>\n",
       "      <th>2</th>\n",
       "      <td>smoker</td>\n",
       "      <td>No</td>\n",
       "      <td>151</td>\n",
       "      <td>61.89</td>\n",
       "    </tr>\n",
       "    <tr>\n",
       "      <th>3</th>\n",
       "      <td></td>\n",
       "      <td>Yes</td>\n",
       "      <td>93</td>\n",
       "      <td>38.11</td>\n",
       "    </tr>\n",
       "    <tr>\n",
       "      <th>4</th>\n",
       "      <td>day</td>\n",
       "      <td>Sat</td>\n",
       "      <td>87</td>\n",
       "      <td>35.66</td>\n",
       "    </tr>\n",
       "    <tr>\n",
       "      <th>5</th>\n",
       "      <td></td>\n",
       "      <td>Sun</td>\n",
       "      <td>76</td>\n",
       "      <td>31.15</td>\n",
       "    </tr>\n",
       "    <tr>\n",
       "      <th>6</th>\n",
       "      <td></td>\n",
       "      <td>Thur</td>\n",
       "      <td>62</td>\n",
       "      <td>25.41</td>\n",
       "    </tr>\n",
       "    <tr>\n",
       "      <th>7</th>\n",
       "      <td></td>\n",
       "      <td>Fri</td>\n",
       "      <td>19</td>\n",
       "      <td>7.79</td>\n",
       "    </tr>\n",
       "  </tbody>\n",
       "</table>\n",
       "</div>"
      ],
      "text/plain": [
       "  Variable Outcome  Count  Percent\n",
       "0      sex    Male    157    64.34\n",
       "1           Female     87    35.66\n",
       "2   smoker      No    151    61.89\n",
       "3              Yes     93    38.11\n",
       "4      day     Sat     87    35.66\n",
       "5              Sun     76    31.15\n",
       "6             Thur     62    25.41\n",
       "7              Fri     19     7.79"
      ]
     },
     "execution_count": 13,
     "metadata": {},
     "output_type": "execute_result"
    }
   ],
   "source": [
    "rp.summary_cat(df[[\"sex\", \"smoker\", \"day\"]])"
   ]
  },
  {
   "cell_type": "code",
   "execution_count": 14,
   "id": "ddc3b5ce",
   "metadata": {},
   "outputs": [
    {
     "data": {
      "text/html": [
       "<div>\n",
       "<style scoped>\n",
       "    .dataframe tbody tr th:only-of-type {\n",
       "        vertical-align: middle;\n",
       "    }\n",
       "\n",
       "    .dataframe tbody tr th {\n",
       "        vertical-align: top;\n",
       "    }\n",
       "\n",
       "    .dataframe thead th {\n",
       "        text-align: right;\n",
       "    }\n",
       "</style>\n",
       "<table border=\"1\" class=\"dataframe\">\n",
       "  <thead>\n",
       "    <tr style=\"text-align: right;\">\n",
       "      <th></th>\n",
       "      <th>tip</th>\n",
       "      <th>total_bill</th>\n",
       "    </tr>\n",
       "  </thead>\n",
       "  <tbody>\n",
       "    <tr>\n",
       "      <th>tip</th>\n",
       "      <td>1.914455</td>\n",
       "      <td>8.323502</td>\n",
       "    </tr>\n",
       "    <tr>\n",
       "      <th>total_bill</th>\n",
       "      <td>8.323502</td>\n",
       "      <td>79.252939</td>\n",
       "    </tr>\n",
       "  </tbody>\n",
       "</table>\n",
       "</div>"
      ],
      "text/plain": [
       "                 tip  total_bill\n",
       "tip         1.914455    8.323502\n",
       "total_bill  8.323502   79.252939"
      ]
     },
     "execution_count": 14,
     "metadata": {},
     "output_type": "execute_result"
    }
   ],
   "source": [
    "# information about covaryans:\n",
    "# cov = measure of variablitiy in the reliationship between two variables \n",
    "\n",
    "df[[\"tip\", \"total_bill\"]].cov()"
   ]
  },
  {
   "cell_type": "code",
   "execution_count": 15,
   "id": "05c21831",
   "metadata": {},
   "outputs": [
    {
     "data": {
      "text/html": [
       "<div>\n",
       "<style scoped>\n",
       "    .dataframe tbody tr th:only-of-type {\n",
       "        vertical-align: middle;\n",
       "    }\n",
       "\n",
       "    .dataframe tbody tr th {\n",
       "        vertical-align: top;\n",
       "    }\n",
       "\n",
       "    .dataframe thead th {\n",
       "        text-align: right;\n",
       "    }\n",
       "</style>\n",
       "<table border=\"1\" class=\"dataframe\">\n",
       "  <thead>\n",
       "    <tr style=\"text-align: right;\">\n",
       "      <th></th>\n",
       "      <th>tip</th>\n",
       "      <th>total_bill</th>\n",
       "    </tr>\n",
       "  </thead>\n",
       "  <tbody>\n",
       "    <tr>\n",
       "      <th>tip</th>\n",
       "      <td>1.000000</td>\n",
       "      <td>0.675734</td>\n",
       "    </tr>\n",
       "    <tr>\n",
       "      <th>total_bill</th>\n",
       "      <td>0.675734</td>\n",
       "      <td>1.000000</td>\n",
       "    </tr>\n",
       "  </tbody>\n",
       "</table>\n",
       "</div>"
      ],
      "text/plain": [
       "                 tip  total_bill\n",
       "tip         1.000000    0.675734\n",
       "total_bill  0.675734    1.000000"
      ]
     },
     "execution_count": 15,
     "metadata": {},
     "output_type": "execute_result"
    }
   ],
   "source": [
    "df[[\"tip\", \"total_bill\"]].corr()\n",
    "# corr: correlation, A measure of  whether the relationship between two variables is significant or not"
   ]
  },
  {
   "cell_type": "markdown",
   "id": "c62e0460",
   "metadata": {},
   "source": [
    "### Confidence interval"
   ]
  },
  {
   "cell_type": "code",
   "execution_count": 16,
   "id": "d0c50f48",
   "metadata": {},
   "outputs": [],
   "source": [
    "# to calculate confidence interval\n",
    "\n",
    "# step 1: find to 'n' value, average and standart deviation (n = 100, average = 180, sd = 40)\n",
    "# step 2: decided to confidence interval, 95 or 99?\n",
    "# step 3: calculate the confidence interval using the values above (look to formula from the internet)"
   ]
  },
  {
   "cell_type": "code",
   "execution_count": 5,
   "id": "06e9fb2f",
   "metadata": {},
   "outputs": [
    {
     "data": {
      "text/plain": [
       "59.731"
      ]
     },
     "execution_count": 5,
     "metadata": {},
     "output_type": "execute_result"
    }
   ],
   "source": [
    "prices = np.random.randint(10,110,1000)\n",
    "prices.mean()"
   ]
  },
  {
   "cell_type": "code",
   "execution_count": 6,
   "id": "336509b5",
   "metadata": {},
   "outputs": [
    {
     "data": {
      "text/plain": [
       "(57.93958644099611, 61.522413559003894)"
      ]
     },
     "execution_count": 6,
     "metadata": {},
     "output_type": "execute_result"
    }
   ],
   "source": [
    "import statsmodels.stats.api as sms\n",
    "\n",
    "average = sms.DescrStatsW(prices).zconfint_mean()\n",
    "average # Numbers 57 and 61 have %95 reliability "
   ]
  },
  {
   "cell_type": "markdown",
   "id": "aac8d514",
   "metadata": {},
   "source": [
    "### Bernoulli distribution"
   ]
  },
  {
   "cell_type": "code",
   "execution_count": 7,
   "id": "69367a33",
   "metadata": {},
   "outputs": [],
   "source": [
    "# using for two result situation like pass-fail and positive-negative that is a discrete probability distribution."
   ]
  },
  {
   "cell_type": "code",
   "execution_count": 9,
   "id": "7843a782",
   "metadata": {},
   "outputs": [
    {
     "name": "stdout",
     "output_type": "stream",
     "text": [
      "0.4\n"
     ]
    }
   ],
   "source": [
    "from scipy.stats import bernoulli \n",
    "\n",
    "p = 0.6 # heads or tails (know tail value: 0.6)\n",
    "ru = bernoulli(p)\n",
    "a = ru.pmf(k = 0) #probability mass function\n",
    "print(a)"
   ]
  },
  {
   "cell_type": "markdown",
   "id": "ade4080b",
   "metadata": {},
   "source": [
    "### Law of large numbers"
   ]
  },
  {
   "cell_type": "code",
   "execution_count": 10,
   "id": "2812f398",
   "metadata": {},
   "outputs": [],
   "source": [
    "# Probability term that describes the long-term stability of a random variable."
   ]
  },
  {
   "cell_type": "code",
   "execution_count": 11,
   "id": "a1349e9e",
   "metadata": {},
   "outputs": [
    {
     "name": "stdout",
     "output_type": "stream",
     "text": [
      "number of shots: 2 --- probability of tails 0.50\n",
      "number of shots: 4 --- probability of tails 0.00\n",
      "number of shots: 8 --- probability of tails 0.62\n",
      "number of shots: 16 --- probability of tails 0.44\n",
      "number of shots: 32 --- probability of tails 0.47\n",
      "number of shots: 64 --- probability of tails 0.56\n",
      "number of shots: 128 --- probability of tails 0.51\n",
      "number of shots: 256 --- probability of tails 0.53\n",
      "number of shots: 512 --- probability of tails 0.53\n",
      "number of shots: 1024 --- probability of tails 0.50\n",
      "number of shots: 2048 --- probability of tails 0.49\n",
      "number of shots: 4096 --- probability of tails 0.49\n",
      "number of shots: 8192 --- probability of tails 0.50\n",
      "number of shots: 16384 --- probability of tails 0.50\n",
      "number of shots: 32768 --- probability of tails 0.50\n",
      "number of shots: 65536 --- probability of tails 0.50\n",
      "number of shots: 131072 --- probability of tails 0.50\n",
      "number of shots: 262144 --- probability of tails 0.50\n",
      "number of shots: 524288 --- probability of tails 0.50\n",
      "number of shots: 1048576 --- probability of tails 0.50\n"
     ]
    }
   ],
   "source": [
    "rng = np.random.RandomState(123) # RandomState is to immobilize random numbers\n",
    "for i in np.arange(1,21):\n",
    "    test_number = 2 ** i\n",
    "    heads_tails = rng.randint(0,2, size = test_number)\n",
    "    tails_probability = np.mean(heads_tails)\n",
    "    print(f\"number of shots: {test_number} --- probability of tails %.2f\" % (tails_probability))"
   ]
  },
  {
   "cell_type": "markdown",
   "id": "5bcc4bd0",
   "metadata": {},
   "source": [
    "### Binomial distribution"
   ]
  },
  {
   "cell_type": "code",
   "execution_count": 12,
   "id": "0487aca3",
   "metadata": {},
   "outputs": [],
   "source": [
    "# Probability of success k after n independent trials"
   ]
  },
  {
   "cell_type": "code",
   "execution_count": 13,
   "id": "8ca58cc7",
   "metadata": {},
   "outputs": [
    {
     "name": "stdout",
     "output_type": "stream",
     "text": [
      "0.36972963764972666\n"
     ]
    }
   ],
   "source": [
    "from scipy.stats import binom\n",
    "\n",
    "p = 0.01\n",
    "n = 100\n",
    "\n",
    "ru = binom(n,p)\n",
    "print(ru.pmf(1))"
   ]
  },
  {
   "cell_type": "code",
   "execution_count": 14,
   "id": "19a3056e",
   "metadata": {},
   "outputs": [
    {
     "name": "stdout",
     "output_type": "stream",
     "text": [
      "0.002897787123761478\n"
     ]
    }
   ],
   "source": [
    "print(ru.pmf(5))"
   ]
  },
  {
   "cell_type": "code",
   "execution_count": 15,
   "id": "479eaf3a",
   "metadata": {},
   "outputs": [
    {
     "name": "stdout",
     "output_type": "stream",
     "text": [
      "7.006035693977194e-08\n"
     ]
    }
   ],
   "source": [
    "print(ru.pmf(10))"
   ]
  },
  {
   "cell_type": "markdown",
   "id": "b2d6b823",
   "metadata": {},
   "source": [
    "### Poisson distribution"
   ]
  },
  {
   "cell_type": "code",
   "execution_count": 16,
   "id": "757c1f35",
   "metadata": {},
   "outputs": [],
   "source": [
    "# Probabilities of rare events in a given area over a given time period"
   ]
  },
  {
   "cell_type": "code",
   "execution_count": 19,
   "id": "7aa2179a",
   "metadata": {},
   "outputs": [
    {
     "name": "stdout",
     "output_type": "stream",
     "text": [
      "\n",
      "zero probability of fault: 0.9048374180359595\n",
      "three probability of fault: 0.00015080623633932676\n",
      "five probability of fault: 7.54031181696634e-08\n"
     ]
    }
   ],
   "source": [
    "from scipy.stats import poisson\n",
    "\n",
    "lambda_ = 0.1\n",
    "rv = poisson(mu = lambda_)\n",
    "a = rv.pmf(k=0)\n",
    "a2 = rv.pmf(k=3)\n",
    "a3 = rv.pmf(k=5)\n",
    "print(f\"\"\"\n",
    "zero probability of fault: {a}\n",
    "three probability of fault: {a2}\n",
    "five probability of fault: {a3}\"\"\")"
   ]
  },
  {
   "cell_type": "markdown",
   "id": "8442735e",
   "metadata": {},
   "source": [
    "### Normal distribution"
   ]
  },
  {
   "cell_type": "code",
   "execution_count": 20,
   "id": "7d091395",
   "metadata": {},
   "outputs": [],
   "source": [
    "# Probability calculation for continuous random variables known to be normally distributed"
   ]
  },
  {
   "cell_type": "code",
   "execution_count": 21,
   "id": "10631fba",
   "metadata": {},
   "outputs": [
    {
     "data": {
      "text/plain": [
       "0.9772498680518208"
      ]
     },
     "execution_count": 21,
     "metadata": {},
     "output_type": "execute_result"
    }
   ],
   "source": [
    "from scipy.stats import norm\n",
    "\n",
    "norm.cdf(90,80,5)"
   ]
  },
  {
   "cell_type": "code",
   "execution_count": 22,
   "id": "2077f89d",
   "metadata": {},
   "outputs": [
    {
     "data": {
      "text/plain": [
       "0.022750131948179195"
      ]
     },
     "execution_count": 22,
     "metadata": {},
     "output_type": "execute_result"
    }
   ],
   "source": [
    "norm.cdf(70,80,5)"
   ]
  },
  {
   "cell_type": "code",
   "execution_count": 23,
   "id": "0fb4b750",
   "metadata": {},
   "outputs": [
    {
     "data": {
      "text/plain": [
       "0.08075665923377107"
      ]
     },
     "execution_count": 23,
     "metadata": {},
     "output_type": "execute_result"
    }
   ],
   "source": [
    "norm.cdf(73,80,5)"
   ]
  },
  {
   "cell_type": "code",
   "execution_count": 24,
   "id": "77764f70",
   "metadata": {},
   "outputs": [
    {
     "data": {
      "text/plain": [
       "0.13590512198327787"
      ]
     },
     "execution_count": 24,
     "metadata": {},
     "output_type": "execute_result"
    }
   ],
   "source": [
    "norm.cdf(90,80,5) - norm.cdf(85,80,5)"
   ]
  },
  {
   "cell_type": "code",
   "execution_count": null,
   "id": "c7cfe9f9",
   "metadata": {},
   "outputs": [],
   "source": []
  }
 ],
 "metadata": {
  "kernelspec": {
   "display_name": "Python 3 (ipykernel)",
   "language": "python",
   "name": "python3"
  },
  "language_info": {
   "codemirror_mode": {
    "name": "ipython",
    "version": 3
   },
   "file_extension": ".py",
   "mimetype": "text/x-python",
   "name": "python",
   "nbconvert_exporter": "python",
   "pygments_lexer": "ipython3",
   "version": "3.9.12"
  }
 },
 "nbformat": 4,
 "nbformat_minor": 5
}
