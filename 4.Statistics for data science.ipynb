{
 "cells": [
  {
   "cell_type": "markdown",
   "id": "8a62d582",
   "metadata": {},
   "source": [
    "## Statistical programming"
   ]
  },
  {
   "cell_type": "code",
   "execution_count": 4,
   "id": "97d43b78",
   "metadata": {},
   "outputs": [
    {
     "data": {
      "text/plain": [
       "array([31, 50,  7, 22, 74, 36, 61, 34, 77, 33])"
      ]
     },
     "execution_count": 4,
     "metadata": {},
     "output_type": "execute_result"
    }
   ],
   "source": [
    "import numpy as np\n",
    "\n",
    "population = np.random.randint(0,80,25000) # for example, district with a population of 25.000 people\n",
    "population[0:10] # will do age estimate"
   ]
  },
  {
   "cell_type": "code",
   "execution_count": 5,
   "id": "20330f1b",
   "metadata": {},
   "outputs": [],
   "source": [
    "np.random.seed(10) # seed func prevents random number from repeating"
   ]
  },
  {
   "cell_type": "code",
   "execution_count": 8,
   "id": "a610f523",
   "metadata": {},
   "outputs": [
    {
     "data": {
      "text/plain": [
       "44.44"
      ]
     },
     "execution_count": 8,
     "metadata": {},
     "output_type": "execute_result"
    }
   ],
   "source": [
    "np.random.seed(115)\n",
    "sample = np.random.choice(a = population, size = 100)\n",
    "sample.mean() # the average age of 25.000 people in the district is 44."
   ]
  },
  {
   "cell_type": "code",
   "execution_count": 9,
   "id": "9c7437be",
   "metadata": {},
   "outputs": [
    {
     "data": {
      "text/plain": [
       "39.81484"
      ]
     },
     "execution_count": 9,
     "metadata": {},
     "output_type": "execute_result"
    }
   ],
   "source": [
    "population.mean()"
   ]
  },
  {
   "cell_type": "markdown",
   "id": "713408a4",
   "metadata": {},
   "source": [
    "### descriptive statistic sample"
   ]
  },
  {
   "cell_type": "code",
   "execution_count": 10,
   "id": "ad4ef607",
   "metadata": {},
   "outputs": [
    {
     "data": {
      "text/html": [
       "<div>\n",
       "<style scoped>\n",
       "    .dataframe tbody tr th:only-of-type {\n",
       "        vertical-align: middle;\n",
       "    }\n",
       "\n",
       "    .dataframe tbody tr th {\n",
       "        vertical-align: top;\n",
       "    }\n",
       "\n",
       "    .dataframe thead th {\n",
       "        text-align: right;\n",
       "    }\n",
       "</style>\n",
       "<table border=\"1\" class=\"dataframe\">\n",
       "  <thead>\n",
       "    <tr style=\"text-align: right;\">\n",
       "      <th></th>\n",
       "      <th>count</th>\n",
       "      <th>mean</th>\n",
       "      <th>std</th>\n",
       "      <th>min</th>\n",
       "      <th>25%</th>\n",
       "      <th>50%</th>\n",
       "      <th>75%</th>\n",
       "      <th>max</th>\n",
       "    </tr>\n",
       "  </thead>\n",
       "  <tbody>\n",
       "    <tr>\n",
       "      <th>total_bill</th>\n",
       "      <td>244.0</td>\n",
       "      <td>19.785943</td>\n",
       "      <td>8.902412</td>\n",
       "      <td>3.07</td>\n",
       "      <td>13.3475</td>\n",
       "      <td>17.795</td>\n",
       "      <td>24.1275</td>\n",
       "      <td>50.81</td>\n",
       "    </tr>\n",
       "    <tr>\n",
       "      <th>tip</th>\n",
       "      <td>244.0</td>\n",
       "      <td>2.998279</td>\n",
       "      <td>1.383638</td>\n",
       "      <td>1.00</td>\n",
       "      <td>2.0000</td>\n",
       "      <td>2.900</td>\n",
       "      <td>3.5625</td>\n",
       "      <td>10.00</td>\n",
       "    </tr>\n",
       "    <tr>\n",
       "      <th>size</th>\n",
       "      <td>244.0</td>\n",
       "      <td>2.569672</td>\n",
       "      <td>0.951100</td>\n",
       "      <td>1.00</td>\n",
       "      <td>2.0000</td>\n",
       "      <td>2.000</td>\n",
       "      <td>3.0000</td>\n",
       "      <td>6.00</td>\n",
       "    </tr>\n",
       "  </tbody>\n",
       "</table>\n",
       "</div>"
      ],
      "text/plain": [
       "            count       mean       std   min      25%     50%      75%    max\n",
       "total_bill  244.0  19.785943  8.902412  3.07  13.3475  17.795  24.1275  50.81\n",
       "tip         244.0   2.998279  1.383638  1.00   2.0000   2.900   3.5625  10.00\n",
       "size        244.0   2.569672  0.951100  1.00   2.0000   2.000   3.0000   6.00"
      ]
     },
     "execution_count": 10,
     "metadata": {},
     "output_type": "execute_result"
    }
   ],
   "source": [
    "import seaborn as sns\n",
    "import researchpy as rp\n",
    "\n",
    "tips = sns.load_dataset(\"tips\")\n",
    "df = tips.copy()\n",
    "\n",
    "df.describe().T"
   ]
  },
  {
   "cell_type": "code",
   "execution_count": 11,
   "id": "3512a366",
   "metadata": {},
   "outputs": [
    {
     "name": "stdout",
     "output_type": "stream",
     "text": [
      "\n",
      "\n"
     ]
    },
    {
     "data": {
      "text/html": [
       "<div>\n",
       "<style scoped>\n",
       "    .dataframe tbody tr th:only-of-type {\n",
       "        vertical-align: middle;\n",
       "    }\n",
       "\n",
       "    .dataframe tbody tr th {\n",
       "        vertical-align: top;\n",
       "    }\n",
       "\n",
       "    .dataframe thead th {\n",
       "        text-align: right;\n",
       "    }\n",
       "</style>\n",
       "<table border=\"1\" class=\"dataframe\">\n",
       "  <thead>\n",
       "    <tr style=\"text-align: right;\">\n",
       "      <th></th>\n",
       "      <th>Variable</th>\n",
       "      <th>N</th>\n",
       "      <th>Mean</th>\n",
       "      <th>SD</th>\n",
       "      <th>SE</th>\n",
       "      <th>95% Conf.</th>\n",
       "      <th>Interval</th>\n",
       "    </tr>\n",
       "  </thead>\n",
       "  <tbody>\n",
       "    <tr>\n",
       "      <th>0</th>\n",
       "      <td>total_bill</td>\n",
       "      <td>244.0</td>\n",
       "      <td>19.7859</td>\n",
       "      <td>8.9024</td>\n",
       "      <td>0.5699</td>\n",
       "      <td>18.6633</td>\n",
       "      <td>20.9086</td>\n",
       "    </tr>\n",
       "    <tr>\n",
       "      <th>1</th>\n",
       "      <td>tip</td>\n",
       "      <td>244.0</td>\n",
       "      <td>2.9983</td>\n",
       "      <td>1.3836</td>\n",
       "      <td>0.0886</td>\n",
       "      <td>2.8238</td>\n",
       "      <td>3.1728</td>\n",
       "    </tr>\n",
       "    <tr>\n",
       "      <th>2</th>\n",
       "      <td>size</td>\n",
       "      <td>244.0</td>\n",
       "      <td>2.5697</td>\n",
       "      <td>0.9511</td>\n",
       "      <td>0.0609</td>\n",
       "      <td>2.4497</td>\n",
       "      <td>2.6896</td>\n",
       "    </tr>\n",
       "  </tbody>\n",
       "</table>\n",
       "</div>"
      ],
      "text/plain": [
       "     Variable      N     Mean      SD      SE  95% Conf.  Interval\n",
       "0  total_bill  244.0  19.7859  8.9024  0.5699    18.6633   20.9086\n",
       "1         tip  244.0   2.9983  1.3836  0.0886     2.8238    3.1728\n",
       "2        size  244.0   2.5697  0.9511  0.0609     2.4497    2.6896"
      ]
     },
     "execution_count": 11,
     "metadata": {},
     "output_type": "execute_result"
    }
   ],
   "source": [
    "rp.summary_cont(df[[\"total_bill\", \"tip\", \"size\"]])"
   ]
  },
  {
   "cell_type": "code",
   "execution_count": 13,
   "id": "9da7af0f",
   "metadata": {},
   "outputs": [
    {
     "data": {
      "text/html": [
       "<div>\n",
       "<style scoped>\n",
       "    .dataframe tbody tr th:only-of-type {\n",
       "        vertical-align: middle;\n",
       "    }\n",
       "\n",
       "    .dataframe tbody tr th {\n",
       "        vertical-align: top;\n",
       "    }\n",
       "\n",
       "    .dataframe thead th {\n",
       "        text-align: right;\n",
       "    }\n",
       "</style>\n",
       "<table border=\"1\" class=\"dataframe\">\n",
       "  <thead>\n",
       "    <tr style=\"text-align: right;\">\n",
       "      <th></th>\n",
       "      <th>Variable</th>\n",
       "      <th>Outcome</th>\n",
       "      <th>Count</th>\n",
       "      <th>Percent</th>\n",
       "    </tr>\n",
       "  </thead>\n",
       "  <tbody>\n",
       "    <tr>\n",
       "      <th>0</th>\n",
       "      <td>sex</td>\n",
       "      <td>Male</td>\n",
       "      <td>157</td>\n",
       "      <td>64.34</td>\n",
       "    </tr>\n",
       "    <tr>\n",
       "      <th>1</th>\n",
       "      <td></td>\n",
       "      <td>Female</td>\n",
       "      <td>87</td>\n",
       "      <td>35.66</td>\n",
       "    </tr>\n",
       "    <tr>\n",
       "      <th>2</th>\n",
       "      <td>smoker</td>\n",
       "      <td>No</td>\n",
       "      <td>151</td>\n",
       "      <td>61.89</td>\n",
       "    </tr>\n",
       "    <tr>\n",
       "      <th>3</th>\n",
       "      <td></td>\n",
       "      <td>Yes</td>\n",
       "      <td>93</td>\n",
       "      <td>38.11</td>\n",
       "    </tr>\n",
       "    <tr>\n",
       "      <th>4</th>\n",
       "      <td>day</td>\n",
       "      <td>Sat</td>\n",
       "      <td>87</td>\n",
       "      <td>35.66</td>\n",
       "    </tr>\n",
       "    <tr>\n",
       "      <th>5</th>\n",
       "      <td></td>\n",
       "      <td>Sun</td>\n",
       "      <td>76</td>\n",
       "      <td>31.15</td>\n",
       "    </tr>\n",
       "    <tr>\n",
       "      <th>6</th>\n",
       "      <td></td>\n",
       "      <td>Thur</td>\n",
       "      <td>62</td>\n",
       "      <td>25.41</td>\n",
       "    </tr>\n",
       "    <tr>\n",
       "      <th>7</th>\n",
       "      <td></td>\n",
       "      <td>Fri</td>\n",
       "      <td>19</td>\n",
       "      <td>7.79</td>\n",
       "    </tr>\n",
       "  </tbody>\n",
       "</table>\n",
       "</div>"
      ],
      "text/plain": [
       "  Variable Outcome  Count  Percent\n",
       "0      sex    Male    157    64.34\n",
       "1           Female     87    35.66\n",
       "2   smoker      No    151    61.89\n",
       "3              Yes     93    38.11\n",
       "4      day     Sat     87    35.66\n",
       "5              Sun     76    31.15\n",
       "6             Thur     62    25.41\n",
       "7              Fri     19     7.79"
      ]
     },
     "execution_count": 13,
     "metadata": {},
     "output_type": "execute_result"
    }
   ],
   "source": [
    "rp.summary_cat(df[[\"sex\", \"smoker\", \"day\"]])"
   ]
  },
  {
   "cell_type": "code",
   "execution_count": 14,
   "id": "ddc3b5ce",
   "metadata": {},
   "outputs": [
    {
     "data": {
      "text/html": [
       "<div>\n",
       "<style scoped>\n",
       "    .dataframe tbody tr th:only-of-type {\n",
       "        vertical-align: middle;\n",
       "    }\n",
       "\n",
       "    .dataframe tbody tr th {\n",
       "        vertical-align: top;\n",
       "    }\n",
       "\n",
       "    .dataframe thead th {\n",
       "        text-align: right;\n",
       "    }\n",
       "</style>\n",
       "<table border=\"1\" class=\"dataframe\">\n",
       "  <thead>\n",
       "    <tr style=\"text-align: right;\">\n",
       "      <th></th>\n",
       "      <th>tip</th>\n",
       "      <th>total_bill</th>\n",
       "    </tr>\n",
       "  </thead>\n",
       "  <tbody>\n",
       "    <tr>\n",
       "      <th>tip</th>\n",
       "      <td>1.914455</td>\n",
       "      <td>8.323502</td>\n",
       "    </tr>\n",
       "    <tr>\n",
       "      <th>total_bill</th>\n",
       "      <td>8.323502</td>\n",
       "      <td>79.252939</td>\n",
       "    </tr>\n",
       "  </tbody>\n",
       "</table>\n",
       "</div>"
      ],
      "text/plain": [
       "                 tip  total_bill\n",
       "tip         1.914455    8.323502\n",
       "total_bill  8.323502   79.252939"
      ]
     },
     "execution_count": 14,
     "metadata": {},
     "output_type": "execute_result"
    }
   ],
   "source": [
    "# information about covaryans:\n",
    "# cov = measure of variablitiy in the reliationship between two variables \n",
    "\n",
    "df[[\"tip\", \"total_bill\"]].cov()"
   ]
  },
  {
   "cell_type": "code",
   "execution_count": 15,
   "id": "05c21831",
   "metadata": {},
   "outputs": [
    {
     "data": {
      "text/html": [
       "<div>\n",
       "<style scoped>\n",
       "    .dataframe tbody tr th:only-of-type {\n",
       "        vertical-align: middle;\n",
       "    }\n",
       "\n",
       "    .dataframe tbody tr th {\n",
       "        vertical-align: top;\n",
       "    }\n",
       "\n",
       "    .dataframe thead th {\n",
       "        text-align: right;\n",
       "    }\n",
       "</style>\n",
       "<table border=\"1\" class=\"dataframe\">\n",
       "  <thead>\n",
       "    <tr style=\"text-align: right;\">\n",
       "      <th></th>\n",
       "      <th>tip</th>\n",
       "      <th>total_bill</th>\n",
       "    </tr>\n",
       "  </thead>\n",
       "  <tbody>\n",
       "    <tr>\n",
       "      <th>tip</th>\n",
       "      <td>1.000000</td>\n",
       "      <td>0.675734</td>\n",
       "    </tr>\n",
       "    <tr>\n",
       "      <th>total_bill</th>\n",
       "      <td>0.675734</td>\n",
       "      <td>1.000000</td>\n",
       "    </tr>\n",
       "  </tbody>\n",
       "</table>\n",
       "</div>"
      ],
      "text/plain": [
       "                 tip  total_bill\n",
       "tip         1.000000    0.675734\n",
       "total_bill  0.675734    1.000000"
      ]
     },
     "execution_count": 15,
     "metadata": {},
     "output_type": "execute_result"
    }
   ],
   "source": [
    "df[[\"tip\", \"total_bill\"]].corr()\n",
    "# corr: correlation, A measure of  whether the relationship between two variables is significant or not"
   ]
  },
  {
   "cell_type": "markdown",
   "id": "c62e0460",
   "metadata": {},
   "source": [
    "### Confidence interval"
   ]
  },
  {
   "cell_type": "code",
   "execution_count": 16,
   "id": "d0c50f48",
   "metadata": {},
   "outputs": [],
   "source": [
    "# to calculate confidence interval\n",
    "\n",
    "# step 1: find to 'n' value, average and standart deviation (n = 100, average = 180, sd = 40)\n",
    "# step 2: decided to confidence interval, 95 or 99?\n",
    "# step 3: calculate the confidence interval using the values above (look to formula from the internet)"
   ]
  },
  {
   "cell_type": "code",
   "execution_count": 5,
   "id": "06e9fb2f",
   "metadata": {},
   "outputs": [
    {
     "data": {
      "text/plain": [
       "59.731"
      ]
     },
     "execution_count": 5,
     "metadata": {},
     "output_type": "execute_result"
    }
   ],
   "source": [
    "prices = np.random.randint(10,110,1000)\n",
    "prices.mean()"
   ]
  },
  {
   "cell_type": "code",
   "execution_count": 6,
   "id": "336509b5",
   "metadata": {},
   "outputs": [
    {
     "data": {
      "text/plain": [
       "(57.93958644099611, 61.522413559003894)"
      ]
     },
     "execution_count": 6,
     "metadata": {},
     "output_type": "execute_result"
    }
   ],
   "source": [
    "import statsmodels.stats.api as sms\n",
    "\n",
    "average = sms.DescrStatsW(prices).zconfint_mean()\n",
    "average # Numbers 57 and 61 have %95 reliability "
   ]
  },
  {
   "cell_type": "markdown",
   "id": "aac8d514",
   "metadata": {},
   "source": [
    "### Bernoulli distribution"
   ]
  },
  {
   "cell_type": "code",
   "execution_count": 7,
   "id": "69367a33",
   "metadata": {},
   "outputs": [],
   "source": [
    "# using for two result situation like pass-fail and positive-negative that is a discrete probability distribution."
   ]
  },
  {
   "cell_type": "code",
   "execution_count": 9,
   "id": "7843a782",
   "metadata": {},
   "outputs": [
    {
     "name": "stdout",
     "output_type": "stream",
     "text": [
      "0.4\n"
     ]
    }
   ],
   "source": [
    "from scipy.stats import bernoulli \n",
    "\n",
    "p = 0.6 # heads or tails (know tail value: 0.6)\n",
    "ru = bernoulli(p)\n",
    "a = ru.pmf(k = 0) #probability mass function\n",
    "print(a)"
   ]
  },
  {
   "cell_type": "markdown",
   "id": "ade4080b",
   "metadata": {},
   "source": [
    "### Law of large numbers"
   ]
  },
  {
   "cell_type": "code",
   "execution_count": 10,
   "id": "2812f398",
   "metadata": {},
   "outputs": [],
   "source": [
    "# Probability term that describes the long-term stability of a random variable."
   ]
  },
  {
   "cell_type": "code",
   "execution_count": 11,
   "id": "a1349e9e",
   "metadata": {},
   "outputs": [
    {
     "name": "stdout",
     "output_type": "stream",
     "text": [
      "number of shots: 2 --- probability of tails 0.50\n",
      "number of shots: 4 --- probability of tails 0.00\n",
      "number of shots: 8 --- probability of tails 0.62\n",
      "number of shots: 16 --- probability of tails 0.44\n",
      "number of shots: 32 --- probability of tails 0.47\n",
      "number of shots: 64 --- probability of tails 0.56\n",
      "number of shots: 128 --- probability of tails 0.51\n",
      "number of shots: 256 --- probability of tails 0.53\n",
      "number of shots: 512 --- probability of tails 0.53\n",
      "number of shots: 1024 --- probability of tails 0.50\n",
      "number of shots: 2048 --- probability of tails 0.49\n",
      "number of shots: 4096 --- probability of tails 0.49\n",
      "number of shots: 8192 --- probability of tails 0.50\n",
      "number of shots: 16384 --- probability of tails 0.50\n",
      "number of shots: 32768 --- probability of tails 0.50\n",
      "number of shots: 65536 --- probability of tails 0.50\n",
      "number of shots: 131072 --- probability of tails 0.50\n",
      "number of shots: 262144 --- probability of tails 0.50\n",
      "number of shots: 524288 --- probability of tails 0.50\n",
      "number of shots: 1048576 --- probability of tails 0.50\n"
     ]
    }
   ],
   "source": [
    "rng = np.random.RandomState(123) # RandomState is to immobilize random numbers\n",
    "for i in np.arange(1,21):\n",
    "    test_number = 2 ** i\n",
    "    heads_tails = rng.randint(0,2, size = test_number)\n",
    "    tails_probability = np.mean(heads_tails)\n",
    "    print(f\"number of shots: {test_number} --- probability of tails %.2f\" % (tails_probability))"
   ]
  },
  {
   "cell_type": "markdown",
   "id": "5bcc4bd0",
   "metadata": {},
   "source": [
    "### Binomial distribution"
   ]
  },
  {
   "cell_type": "code",
   "execution_count": 12,
   "id": "0487aca3",
   "metadata": {},
   "outputs": [],
   "source": [
    "# Probability of success k after n independent trials"
   ]
  },
  {
   "cell_type": "code",
   "execution_count": 13,
   "id": "8ca58cc7",
   "metadata": {},
   "outputs": [
    {
     "name": "stdout",
     "output_type": "stream",
     "text": [
      "0.36972963764972666\n"
     ]
    }
   ],
   "source": [
    "from scipy.stats import binom\n",
    "\n",
    "p = 0.01\n",
    "n = 100\n",
    "\n",
    "ru = binom(n,p)\n",
    "print(ru.pmf(1))"
   ]
  },
  {
   "cell_type": "code",
   "execution_count": 14,
   "id": "19a3056e",
   "metadata": {},
   "outputs": [
    {
     "name": "stdout",
     "output_type": "stream",
     "text": [
      "0.002897787123761478\n"
     ]
    }
   ],
   "source": [
    "print(ru.pmf(5))"
   ]
  },
  {
   "cell_type": "code",
   "execution_count": 15,
   "id": "479eaf3a",
   "metadata": {},
   "outputs": [
    {
     "name": "stdout",
     "output_type": "stream",
     "text": [
      "7.006035693977194e-08\n"
     ]
    }
   ],
   "source": [
    "print(ru.pmf(10))"
   ]
  },
  {
   "cell_type": "markdown",
   "id": "b2d6b823",
   "metadata": {},
   "source": [
    "### Poisson distribution"
   ]
  },
  {
   "cell_type": "code",
   "execution_count": 16,
   "id": "757c1f35",
   "metadata": {},
   "outputs": [],
   "source": [
    "# Probabilities of rare events in a given area over a given time period"
   ]
  },
  {
   "cell_type": "code",
   "execution_count": 19,
   "id": "7aa2179a",
   "metadata": {},
   "outputs": [
    {
     "name": "stdout",
     "output_type": "stream",
     "text": [
      "\n",
      "zero probability of fault: 0.9048374180359595\n",
      "three probability of fault: 0.00015080623633932676\n",
      "five probability of fault: 7.54031181696634e-08\n"
     ]
    }
   ],
   "source": [
    "from scipy.stats import poisson\n",
    "\n",
    "lambda_ = 0.1\n",
    "rv = poisson(mu = lambda_)\n",
    "a = rv.pmf(k=0)\n",
    "a2 = rv.pmf(k=3)\n",
    "a3 = rv.pmf(k=5)\n",
    "print(f\"\"\"\n",
    "zero probability of fault: {a}\n",
    "three probability of fault: {a2}\n",
    "five probability of fault: {a3}\"\"\")"
   ]
  },
  {
   "cell_type": "markdown",
   "id": "8442735e",
   "metadata": {},
   "source": [
    "### Normal distribution"
   ]
  },
  {
   "cell_type": "code",
   "execution_count": 20,
   "id": "7d091395",
   "metadata": {},
   "outputs": [],
   "source": [
    "# Probability calculation for continuous random variables known to be normally distributed"
   ]
  },
  {
   "cell_type": "code",
   "execution_count": 21,
   "id": "10631fba",
   "metadata": {},
   "outputs": [
    {
     "data": {
      "text/plain": [
       "0.9772498680518208"
      ]
     },
     "execution_count": 21,
     "metadata": {},
     "output_type": "execute_result"
    }
   ],
   "source": [
    "from scipy.stats import norm\n",
    "\n",
    "norm.cdf(90,80,5)"
   ]
  },
  {
   "cell_type": "code",
   "execution_count": 22,
   "id": "2077f89d",
   "metadata": {},
   "outputs": [
    {
     "data": {
      "text/plain": [
       "0.022750131948179195"
      ]
     },
     "execution_count": 22,
     "metadata": {},
     "output_type": "execute_result"
    }
   ],
   "source": [
    "norm.cdf(70,80,5)"
   ]
  },
  {
   "cell_type": "code",
   "execution_count": 23,
   "id": "0fb4b750",
   "metadata": {},
   "outputs": [
    {
     "data": {
      "text/plain": [
       "0.08075665923377107"
      ]
     },
     "execution_count": 23,
     "metadata": {},
     "output_type": "execute_result"
    }
   ],
   "source": [
    "norm.cdf(73,80,5)"
   ]
  },
  {
   "cell_type": "code",
   "execution_count": 24,
   "id": "77764f70",
   "metadata": {},
   "outputs": [
    {
     "data": {
      "text/plain": [
       "0.13590512198327787"
      ]
     },
     "execution_count": 24,
     "metadata": {},
     "output_type": "execute_result"
    }
   ],
   "source": [
    "norm.cdf(90,80,5) - norm.cdf(85,80,5)"
   ]
  },
  {
   "cell_type": "markdown",
   "id": "e90758fa",
   "metadata": {},
   "source": [
    "### Hypothesis testing and p-value"
   ]
  },
  {
   "cell_type": "code",
   "execution_count": 1,
   "id": "fb24cdc8",
   "metadata": {},
   "outputs": [],
   "source": [
    "# Hypothesis Testing: this is a statistical technical to testing a guess.\n",
    "# p-value: Computer give p-value to evaluate results of hypothesis tests.So, if p-value small than 0.05, we reject H0 hypothesis."
   ]
  },
  {
   "cell_type": "code",
   "execution_count": 2,
   "id": "445f4132",
   "metadata": {},
   "outputs": [],
   "source": [
    "# Hypothesis testing steps:\n",
    "# step 1: set hypotheses and determine directions\n",
    "# step 2: determination of significance level and table value\n",
    "# step 3: determining the test statistic and calculating the test statistic\n",
    "# step 4: explanation of the calculated test statistic and the table value corresponding to alpha"
   ]
  },
  {
   "cell_type": "code",
   "execution_count": 13,
   "id": "cf9fde46",
   "metadata": {},
   "outputs": [
    {
     "data": {
      "text/plain": [
       "array([ 25, 161,  21, 234, 241, 123,  54,  32,  34, 131])"
      ]
     },
     "execution_count": 13,
     "metadata": {},
     "output_type": "execute_result"
    }
   ],
   "source": [
    "import numpy as np\n",
    "\n",
    "measur = np.array([25, 161, 21, 234, 241, 123, 54, 32, 34, 131, 233, 41, 96, 56, 47, 15, 75, 83]) # the measurment values sent to us\n",
    "measur[0:10]"
   ]
  },
  {
   "cell_type": "code",
   "execution_count": 14,
   "id": "ab56bc82",
   "metadata": {},
   "outputs": [
    {
     "data": {
      "text/plain": [
       "DescribeResult(nobs=18, minmax=(15, 241), mean=94.55555555555556, variance=5855.67320261438, skewness=0.9146926848072372, kurtosis=-0.5165223841379825)"
      ]
     },
     "execution_count": 14,
     "metadata": {},
     "output_type": "execute_result"
    }
   ],
   "source": [
    "import scipy.stats as stats\n",
    "stats.describe(measur)"
   ]
  },
  {
   "cell_type": "markdown",
   "id": "bef94817",
   "metadata": {},
   "source": [
    "### Assumptions"
   ]
  },
  {
   "cell_type": "markdown",
   "id": "64b4dd2e",
   "metadata": {},
   "source": [
    "#### Normality assumption:"
   ]
  },
  {
   "cell_type": "code",
   "execution_count": 6,
   "id": "abf47a8d",
   "metadata": {},
   "outputs": [
    {
     "data": {
      "image/png": "[encoded data removed]",
      "text/plain": [
       "<Figure size 432x288 with 1 Axes>"
      ]
     },
     "metadata": {
      "needs_background": "dark"
     },
     "output_type": "display_data"
    }
   ],
   "source": [
    "import pandas as pd\n",
    "import matplotlib.pyplot as plt\n",
    "\n",
    "rng = np.random.RandomState(123)\n",
    "df = rng.randint(0,250,50)\n",
    "stat = stats.describe(df)\n",
    "hist = pd.DataFrame(df).plot.hist()\n",
    "plt.xticks(color=\"white\");\n",
    "plt.yticks(color=\"white\");\n",
    "plt.show()"
   ]
  },
  {
   "cell_type": "markdown",
   "id": "c71ae35e",
   "metadata": {},
   "source": [
    "#### shapiro - wilks test:"
   ]
  },
  {
   "cell_type": "code",
   "execution_count": 9,
   "id": "7c283556",
   "metadata": {},
   "outputs": [
    {
     "data": {
      "text/plain": [
       "ShapiroResult(statistic=0.9492357969284058, pvalue=0.0317385159432888)"
      ]
     },
     "execution_count": 9,
     "metadata": {},
     "output_type": "execute_result"
    }
   ],
   "source": [
    "from scipy.stats import shapiro\n",
    "\n",
    "shapiro(df)\n",
    "\n",
    "# we will observe whether we reject the hypothesis by looking at the p-value here.\n",
    "# If the p-value is less than 0.05, we reject it, otherwise we do not reject it."
   ]
  },
  {
   "cell_type": "markdown",
   "id": "f91829e8",
   "metadata": {},
   "source": [
    "#### applying hypothesis test"
   ]
  },
  {
   "cell_type": "code",
   "execution_count": 11,
   "id": "3ebd26ad",
   "metadata": {},
   "outputs": [
    {
     "data": {
      "text/plain": [
       "Ttest_1sampResult(statistic=-5.845957456127138, pvalue=4.038689535237669e-07)"
      ]
     },
     "execution_count": 11,
     "metadata": {},
     "output_type": "execute_result"
    }
   ],
   "source": [
    "hyp_test = stats.ttest_1samp(df, popmean=170) # popmean: population mean, so the measurement value give to us. \n",
    "hyp_test"
   ]
  },
  {
   "cell_type": "markdown",
   "id": "176c81b1",
   "metadata": {},
   "source": [
    "#### nonparametic single sample test"
   ]
  },
  {
   "cell_type": "code",
   "execution_count": 14,
   "id": "28a26d64",
   "metadata": {},
   "outputs": [
    {
     "data": {
      "text/plain": [
       "(-12.0, 0.000936222910851825)"
      ]
     },
     "execution_count": 14,
     "metadata": {},
     "output_type": "execute_result"
    }
   ],
   "source": [
    "# the meaning of parametric test, when provide various assumptions, can apply test.\n",
    "\n",
    "from statsmodels.stats.descriptivestats import sign_test\n",
    "\n",
    "sign = sign_test(df, 170)\n",
    "sign"
   ]
  },
  {
   "cell_type": "markdown",
   "id": "a03d39e4",
   "metadata": {},
   "source": [
    "#### single sample proportion test"
   ]
  },
  {
   "cell_type": "code",
   "execution_count": 17,
   "id": "9898e379",
   "metadata": {},
   "outputs": [
    {
     "data": {
      "text/plain": [
       "(-2.4031981544375656, 0.016252378088608403)"
      ]
     },
     "execution_count": 17,
     "metadata": {},
     "output_type": "execute_result"
    }
   ],
   "source": [
    "# it is used when you want to test a proportional expression.\n",
    "\n",
    "from statsmodels.stats.proportion import proportions_ztest\n",
    "\n",
    "count = 102\n",
    "obs = 1000\n",
    "value = 0.125\n",
    "proport = proportions_ztest(count, obs, value)\n",
    "proport"
   ]
  },
  {
   "cell_type": "markdown",
   "id": "27cb8cd4",
   "metadata": {},
   "source": [
    "#### independent two sample T test (AB test)"
   ]
  },
  {
   "cell_type": "code",
   "execution_count": 10,
   "id": "2f6d5795",
   "metadata": {},
   "outputs": [
    {
     "data": {
      "text/html": [
       "<div>\n",
       "<style scoped>\n",
       "    .dataframe tbody tr th:only-of-type {\n",
       "        vertical-align: middle;\n",
       "    }\n",
       "\n",
       "    .dataframe tbody tr th {\n",
       "        vertical-align: top;\n",
       "    }\n",
       "\n",
       "    .dataframe thead th {\n",
       "        text-align: right;\n",
       "    }\n",
       "</style>\n",
       "<table border=\"1\" class=\"dataframe\">\n",
       "  <thead>\n",
       "    <tr style=\"text-align: right;\">\n",
       "      <th></th>\n",
       "      <th>A</th>\n",
       "      <th>B</th>\n",
       "    </tr>\n",
       "  </thead>\n",
       "  <tbody>\n",
       "    <tr>\n",
       "      <th>0</th>\n",
       "      <td>30</td>\n",
       "      <td>12</td>\n",
       "    </tr>\n",
       "    <tr>\n",
       "      <th>1</th>\n",
       "      <td>27</td>\n",
       "      <td>32</td>\n",
       "    </tr>\n",
       "    <tr>\n",
       "      <th>2</th>\n",
       "      <td>21</td>\n",
       "      <td>51</td>\n",
       "    </tr>\n",
       "    <tr>\n",
       "      <th>3</th>\n",
       "      <td>27</td>\n",
       "      <td>32</td>\n",
       "    </tr>\n",
       "    <tr>\n",
       "      <th>4</th>\n",
       "      <td>30</td>\n",
       "      <td>51</td>\n",
       "    </tr>\n",
       "    <tr>\n",
       "      <th>5</th>\n",
       "      <td>29</td>\n",
       "      <td>32</td>\n",
       "    </tr>\n",
       "    <tr>\n",
       "      <th>6</th>\n",
       "      <td>30</td>\n",
       "      <td>64</td>\n",
       "    </tr>\n",
       "    <tr>\n",
       "      <th>7</th>\n",
       "      <td>20</td>\n",
       "      <td>71</td>\n",
       "    </tr>\n",
       "    <tr>\n",
       "      <th>8</th>\n",
       "      <td>15</td>\n",
       "      <td>33</td>\n",
       "    </tr>\n",
       "    <tr>\n",
       "      <th>9</th>\n",
       "      <td>24</td>\n",
       "      <td>41</td>\n",
       "    </tr>\n",
       "    <tr>\n",
       "      <th>10</th>\n",
       "      <td>42</td>\n",
       "      <td>21</td>\n",
       "    </tr>\n",
       "    <tr>\n",
       "      <th>11</th>\n",
       "      <td>52</td>\n",
       "      <td>12</td>\n",
       "    </tr>\n",
       "    <tr>\n",
       "      <th>12</th>\n",
       "      <td>11</td>\n",
       "      <td>16</td>\n",
       "    </tr>\n",
       "    <tr>\n",
       "      <th>13</th>\n",
       "      <td>20</td>\n",
       "      <td>17</td>\n",
       "    </tr>\n",
       "  </tbody>\n",
       "</table>\n",
       "</div>"
      ],
      "text/plain": [
       "     A   B\n",
       "0   30  12\n",
       "1   27  32\n",
       "2   21  51\n",
       "3   27  32\n",
       "4   30  51\n",
       "5   29  32\n",
       "6   30  64\n",
       "7   20  71\n",
       "8   15  33\n",
       "9   24  41\n",
       "10  42  21\n",
       "11  52  12\n",
       "12  11  16\n",
       "13  20  17"
      ]
     },
     "execution_count": 10,
     "metadata": {},
     "output_type": "execute_result"
    }
   ],
   "source": [
    "# It is used when you want to make a comparison between two group averages.\n",
    "\n",
    "A = pd.DataFrame([30,27,21,27,30,29,30,20,15,24,42,52,11,20])\n",
    "B = pd.DataFrame([12,32,51,32,51,32,64,71,33,41,21,12,16,17])\n",
    "\n",
    "A_B = pd.concat([A,B], axis = 1)\n",
    "A_B.columns = [\"A\", \"B\"]\n",
    "A_B # data type give to us."
   ]
  },
  {
   "cell_type": "code",
   "execution_count": 7,
   "id": "e6b04037",
   "metadata": {},
   "outputs": [],
   "source": [
    "import pandas as pd\n",
    "import numpy as np\n",
    "\n",
    "A = pd.DataFrame([30,27,21,27,30,29,30,20,15,24,42,52,11,20])\n",
    "B = pd.DataFrame([12,32,51,32,51,32,64,71,33,41,21,12,16,17])\n",
    "\n",
    "# A and group of A\n",
    "\n",
    "group_A = np.arange(len(A))\n",
    "group_A = pd.DataFrame(group_A)\n",
    "group_A[:] = \"A\"\n",
    "A = pd.concat([A, group_A],axis = 1)\n",
    "\n",
    "# B and group of B\n",
    "\n",
    "group_B = np.arange(len(B))\n",
    "group_B = pd.DataFrame(group_B)\n",
    "group_B[:] = \"B\"\n",
    "B = pd.concat([B, group_B], axis = 1)\n",
    "\n",
    "# all data\n",
    "\n",
    "AB = pd.concat([A,B], ignore_index = True)\n",
    "AB.columns = [\"income\", \"source\"]"
   ]
  },
  {
   "cell_type": "code",
   "execution_count": 8,
   "id": "d557a6c0",
   "metadata": {},
   "outputs": [
    {
     "data": {
      "text/html": [
       "<div>\n",
       "<style scoped>\n",
       "    .dataframe tbody tr th:only-of-type {\n",
       "        vertical-align: middle;\n",
       "    }\n",
       "\n",
       "    .dataframe tbody tr th {\n",
       "        vertical-align: top;\n",
       "    }\n",
       "\n",
       "    .dataframe thead th {\n",
       "        text-align: right;\n",
       "    }\n",
       "</style>\n",
       "<table border=\"1\" class=\"dataframe\">\n",
       "  <thead>\n",
       "    <tr style=\"text-align: right;\">\n",
       "      <th></th>\n",
       "      <th>income</th>\n",
       "      <th>source</th>\n",
       "    </tr>\n",
       "  </thead>\n",
       "  <tbody>\n",
       "    <tr>\n",
       "      <th>0</th>\n",
       "      <td>30</td>\n",
       "      <td>A</td>\n",
       "    </tr>\n",
       "    <tr>\n",
       "      <th>1</th>\n",
       "      <td>27</td>\n",
       "      <td>A</td>\n",
       "    </tr>\n",
       "    <tr>\n",
       "      <th>2</th>\n",
       "      <td>21</td>\n",
       "      <td>A</td>\n",
       "    </tr>\n",
       "    <tr>\n",
       "      <th>3</th>\n",
       "      <td>27</td>\n",
       "      <td>A</td>\n",
       "    </tr>\n",
       "    <tr>\n",
       "      <th>4</th>\n",
       "      <td>30</td>\n",
       "      <td>A</td>\n",
       "    </tr>\n",
       "    <tr>\n",
       "      <th>5</th>\n",
       "      <td>29</td>\n",
       "      <td>A</td>\n",
       "    </tr>\n",
       "    <tr>\n",
       "      <th>6</th>\n",
       "      <td>30</td>\n",
       "      <td>A</td>\n",
       "    </tr>\n",
       "    <tr>\n",
       "      <th>7</th>\n",
       "      <td>20</td>\n",
       "      <td>A</td>\n",
       "    </tr>\n",
       "    <tr>\n",
       "      <th>8</th>\n",
       "      <td>15</td>\n",
       "      <td>A</td>\n",
       "    </tr>\n",
       "    <tr>\n",
       "      <th>9</th>\n",
       "      <td>24</td>\n",
       "      <td>A</td>\n",
       "    </tr>\n",
       "    <tr>\n",
       "      <th>10</th>\n",
       "      <td>42</td>\n",
       "      <td>A</td>\n",
       "    </tr>\n",
       "    <tr>\n",
       "      <th>11</th>\n",
       "      <td>52</td>\n",
       "      <td>A</td>\n",
       "    </tr>\n",
       "    <tr>\n",
       "      <th>12</th>\n",
       "      <td>11</td>\n",
       "      <td>A</td>\n",
       "    </tr>\n",
       "    <tr>\n",
       "      <th>13</th>\n",
       "      <td>20</td>\n",
       "      <td>A</td>\n",
       "    </tr>\n",
       "    <tr>\n",
       "      <th>14</th>\n",
       "      <td>12</td>\n",
       "      <td>B</td>\n",
       "    </tr>\n",
       "    <tr>\n",
       "      <th>15</th>\n",
       "      <td>32</td>\n",
       "      <td>B</td>\n",
       "    </tr>\n",
       "    <tr>\n",
       "      <th>16</th>\n",
       "      <td>51</td>\n",
       "      <td>B</td>\n",
       "    </tr>\n",
       "    <tr>\n",
       "      <th>17</th>\n",
       "      <td>32</td>\n",
       "      <td>B</td>\n",
       "    </tr>\n",
       "    <tr>\n",
       "      <th>18</th>\n",
       "      <td>51</td>\n",
       "      <td>B</td>\n",
       "    </tr>\n",
       "    <tr>\n",
       "      <th>19</th>\n",
       "      <td>32</td>\n",
       "      <td>B</td>\n",
       "    </tr>\n",
       "    <tr>\n",
       "      <th>20</th>\n",
       "      <td>64</td>\n",
       "      <td>B</td>\n",
       "    </tr>\n",
       "    <tr>\n",
       "      <th>21</th>\n",
       "      <td>71</td>\n",
       "      <td>B</td>\n",
       "    </tr>\n",
       "    <tr>\n",
       "      <th>22</th>\n",
       "      <td>33</td>\n",
       "      <td>B</td>\n",
       "    </tr>\n",
       "    <tr>\n",
       "      <th>23</th>\n",
       "      <td>41</td>\n",
       "      <td>B</td>\n",
       "    </tr>\n",
       "    <tr>\n",
       "      <th>24</th>\n",
       "      <td>21</td>\n",
       "      <td>B</td>\n",
       "    </tr>\n",
       "    <tr>\n",
       "      <th>25</th>\n",
       "      <td>12</td>\n",
       "      <td>B</td>\n",
       "    </tr>\n",
       "    <tr>\n",
       "      <th>26</th>\n",
       "      <td>16</td>\n",
       "      <td>B</td>\n",
       "    </tr>\n",
       "    <tr>\n",
       "      <th>27</th>\n",
       "      <td>17</td>\n",
       "      <td>B</td>\n",
       "    </tr>\n",
       "  </tbody>\n",
       "</table>\n",
       "</div>"
      ],
      "text/plain": [
       "    income source\n",
       "0       30      A\n",
       "1       27      A\n",
       "2       21      A\n",
       "3       27      A\n",
       "4       30      A\n",
       "5       29      A\n",
       "6       30      A\n",
       "7       20      A\n",
       "8       15      A\n",
       "9       24      A\n",
       "10      42      A\n",
       "11      52      A\n",
       "12      11      A\n",
       "13      20      A\n",
       "14      12      B\n",
       "15      32      B\n",
       "16      51      B\n",
       "17      32      B\n",
       "18      51      B\n",
       "19      32      B\n",
       "20      64      B\n",
       "21      71      B\n",
       "22      33      B\n",
       "23      41      B\n",
       "24      21      B\n",
       "25      12      B\n",
       "26      16      B\n",
       "27      17      B"
      ]
     },
     "execution_count": 8,
     "metadata": {},
     "output_type": "execute_result"
    }
   ],
   "source": [
    "AB"
   ]
  },
  {
   "cell_type": "code",
   "execution_count": 29,
   "id": "533a1124",
   "metadata": {},
   "outputs": [
    {
     "data": {
      "image/png": "[encoded data removed]",
      "text/plain": [
       "<Figure size 432x288 with 1 Axes>"
      ]
     },
     "metadata": {
      "needs_background": "dark"
     },
     "output_type": "display_data"
    }
   ],
   "source": [
    "import seaborn as sns\n",
    "\n",
    "sns.boxplot(x= \"source\", y = \"income\", data = AB)\n",
    "plt.xticks(color=\"white\");\n",
    "plt.yticks(color=\"white\");\n",
    "plt.show()"
   ]
  },
  {
   "cell_type": "markdown",
   "id": "a0a97f31",
   "metadata": {},
   "source": [
    "### Normality Assumption"
   ]
  },
  {
   "cell_type": "code",
   "execution_count": 11,
   "id": "eff40978",
   "metadata": {},
   "outputs": [
    {
     "data": {
      "text/plain": [
       "ShapiroResult(statistic=0.9218422174453735, pvalue=0.23371048271656036)"
      ]
     },
     "execution_count": 11,
     "metadata": {},
     "output_type": "execute_result"
    }
   ],
   "source": [
    "from scipy.stats import shapiro\n",
    "\n",
    "shapiro(A_B.A)"
   ]
  },
  {
   "cell_type": "code",
   "execution_count": 32,
   "id": "2638d17e",
   "metadata": {},
   "outputs": [
    {
     "data": {
      "text/plain": [
       "ShapiroResult(statistic=0.9226486682891846, pvalue=0.24001237750053406)"
      ]
     },
     "execution_count": 32,
     "metadata": {},
     "output_type": "execute_result"
    }
   ],
   "source": [
    "shapiro(A_B.B)"
   ]
  },
  {
   "cell_type": "code",
   "execution_count": 33,
   "id": "90719484",
   "metadata": {},
   "outputs": [
    {
     "data": {
      "text/plain": [
       "LeveneResult(statistic=3.5744985271426573, pvalue=0.06986762968090976)"
      ]
     },
     "execution_count": 33,
     "metadata": {},
     "output_type": "execute_result"
    }
   ],
   "source": [
    "# assumption of homogeneity of variance\n",
    "\n",
    "stats.levene(A_B.A, A_B.B)"
   ]
  },
  {
   "cell_type": "code",
   "execution_count": 34,
   "id": "9e795c84",
   "metadata": {},
   "outputs": [
    {
     "data": {
      "text/plain": [
       "Ttest_indResult(statistic=-1.3226324113580488, pvalue=0.1974742540166383)"
      ]
     },
     "execution_count": 34,
     "metadata": {},
     "output_type": "execute_result"
    }
   ],
   "source": [
    "# hypothesis test:\n",
    "\n",
    "stats.ttest_ind(A_B[\"A\"], A_B[\"B\"], equal_var=True)"
   ]
  },
  {
   "cell_type": "code",
   "execution_count": 15,
   "id": "e5afd716",
   "metadata": {},
   "outputs": [
    {
     "data": {
      "text/plain": [
       "MannwhitneyuResult(statistic=71.5, pvalue=0.2313960270347517)"
      ]
     },
     "execution_count": 15,
     "metadata": {},
     "output_type": "execute_result"
    }
   ],
   "source": [
    "# non-parametic independent two sample test\n",
    "\n",
    "stats.mannwhitneyu(A_B[\"A\"], A_B[\"B\"])"
   ]
  },
  {
   "cell_type": "code",
   "execution_count": 16,
   "id": "9272f7c4",
   "metadata": {},
   "outputs": [
    {
     "name": "stdout",
     "output_type": "stream",
     "text": [
      "Test Statistic = 71.5000, p_value = 0.2314\n"
     ]
    }
   ],
   "source": [
    "test_statistic, pvalue = stats.mannwhitneyu(A_B[\"A\"], A_B[\"B\"])\n",
    "print(f\"Test Statistic = %.4f, p_value = %.4f\" % (test_statistic, pvalue)) # write more readable \n",
    "# p value of this test more bigger from 0.05, so reject H0 hypothesis."
   ]
  },
  {
   "cell_type": "markdown",
   "id": "de6c7a79",
   "metadata": {},
   "source": [
    "### Dependent two sample T test."
   ]
  },
  {
   "cell_type": "code",
   "execution_count": 17,
   "id": "42a02814",
   "metadata": {},
   "outputs": [
    {
     "name": "stdout",
     "output_type": "stream",
     "text": [
      "'separate', dataset: \n",
      "\n",
      "    before  after\n",
      "0     114    120\n",
      "1     125    117\n",
      "2     163    145\n",
      "3     120    130\n",
      "4     143    135 \n",
      "\n",
      "\n"
     ]
    }
   ],
   "source": [
    "before = pd.DataFrame([114, 125, 163, 120, 143, 121, 117, 109, 114, 116, 128])\n",
    "after = pd.DataFrame([120, 117, 145, 130, 135, 119, 125, 111, 123, 119, 123])\n",
    "\n",
    "separate = pd.concat([before, after], axis = 1)\n",
    "separate.columns = [\"before\", \"after\"]\n",
    "print(\"'separate', dataset: \\n\\n\", separate.head(), \"\\n\\n\")"
   ]
  },
  {
   "cell_type": "code",
   "execution_count": 18,
   "id": "aeabc733",
   "metadata": {},
   "outputs": [],
   "source": [
    "# before tag\n",
    "\n",
    "group_bef = np.arange(len(before))\n",
    "group_bef = pd.DataFrame(group_bef)\n",
    "group_bef[:] = \"before\"\n",
    "\n",
    "A = pd.concat([before, group_bef], axis = 1)\n",
    "\n",
    "# after tag\n",
    "\n",
    "group_aft = np.arange(len(after))\n",
    "group_aft = pd.DataFrame(group_aft)\n",
    "group_aft[:] = \"after\"\n",
    "\n",
    "B = pd.concat([after, group_aft], axis = 1)"
   ]
  },
  {
   "cell_type": "code",
   "execution_count": 20,
   "id": "e818e4f5",
   "metadata": {},
   "outputs": [
    {
     "data": {
      "text/html": [
       "<div>\n",
       "<style scoped>\n",
       "    .dataframe tbody tr th:only-of-type {\n",
       "        vertical-align: middle;\n",
       "    }\n",
       "\n",
       "    .dataframe tbody tr th {\n",
       "        vertical-align: top;\n",
       "    }\n",
       "\n",
       "    .dataframe thead th {\n",
       "        text-align: right;\n",
       "    }\n",
       "</style>\n",
       "<table border=\"1\" class=\"dataframe\">\n",
       "  <thead>\n",
       "    <tr style=\"text-align: right;\">\n",
       "      <th></th>\n",
       "      <th>perform</th>\n",
       "      <th>before_after</th>\n",
       "    </tr>\n",
       "  </thead>\n",
       "  <tbody>\n",
       "    <tr>\n",
       "      <th>0</th>\n",
       "      <td>114</td>\n",
       "      <td>before</td>\n",
       "    </tr>\n",
       "    <tr>\n",
       "      <th>1</th>\n",
       "      <td>125</td>\n",
       "      <td>before</td>\n",
       "    </tr>\n",
       "    <tr>\n",
       "      <th>2</th>\n",
       "      <td>163</td>\n",
       "      <td>before</td>\n",
       "    </tr>\n",
       "    <tr>\n",
       "      <th>3</th>\n",
       "      <td>120</td>\n",
       "      <td>before</td>\n",
       "    </tr>\n",
       "    <tr>\n",
       "      <th>4</th>\n",
       "      <td>143</td>\n",
       "      <td>before</td>\n",
       "    </tr>\n",
       "    <tr>\n",
       "      <th>5</th>\n",
       "      <td>121</td>\n",
       "      <td>before</td>\n",
       "    </tr>\n",
       "    <tr>\n",
       "      <th>6</th>\n",
       "      <td>117</td>\n",
       "      <td>before</td>\n",
       "    </tr>\n",
       "    <tr>\n",
       "      <th>7</th>\n",
       "      <td>109</td>\n",
       "      <td>before</td>\n",
       "    </tr>\n",
       "    <tr>\n",
       "      <th>8</th>\n",
       "      <td>114</td>\n",
       "      <td>before</td>\n",
       "    </tr>\n",
       "    <tr>\n",
       "      <th>9</th>\n",
       "      <td>116</td>\n",
       "      <td>before</td>\n",
       "    </tr>\n",
       "    <tr>\n",
       "      <th>10</th>\n",
       "      <td>128</td>\n",
       "      <td>before</td>\n",
       "    </tr>\n",
       "    <tr>\n",
       "      <th>11</th>\n",
       "      <td>120</td>\n",
       "      <td>after</td>\n",
       "    </tr>\n",
       "    <tr>\n",
       "      <th>12</th>\n",
       "      <td>117</td>\n",
       "      <td>after</td>\n",
       "    </tr>\n",
       "    <tr>\n",
       "      <th>13</th>\n",
       "      <td>145</td>\n",
       "      <td>after</td>\n",
       "    </tr>\n",
       "    <tr>\n",
       "      <th>14</th>\n",
       "      <td>130</td>\n",
       "      <td>after</td>\n",
       "    </tr>\n",
       "    <tr>\n",
       "      <th>15</th>\n",
       "      <td>135</td>\n",
       "      <td>after</td>\n",
       "    </tr>\n",
       "    <tr>\n",
       "      <th>16</th>\n",
       "      <td>119</td>\n",
       "      <td>after</td>\n",
       "    </tr>\n",
       "    <tr>\n",
       "      <th>17</th>\n",
       "      <td>125</td>\n",
       "      <td>after</td>\n",
       "    </tr>\n",
       "    <tr>\n",
       "      <th>18</th>\n",
       "      <td>111</td>\n",
       "      <td>after</td>\n",
       "    </tr>\n",
       "    <tr>\n",
       "      <th>19</th>\n",
       "      <td>123</td>\n",
       "      <td>after</td>\n",
       "    </tr>\n",
       "    <tr>\n",
       "      <th>20</th>\n",
       "      <td>119</td>\n",
       "      <td>after</td>\n",
       "    </tr>\n",
       "    <tr>\n",
       "      <th>21</th>\n",
       "      <td>123</td>\n",
       "      <td>after</td>\n",
       "    </tr>\n",
       "  </tbody>\n",
       "</table>\n",
       "</div>"
      ],
      "text/plain": [
       "    perform before_after\n",
       "0       114       before\n",
       "1       125       before\n",
       "2       163       before\n",
       "3       120       before\n",
       "4       143       before\n",
       "5       121       before\n",
       "6       117       before\n",
       "7       109       before\n",
       "8       114       before\n",
       "9       116       before\n",
       "10      128       before\n",
       "11      120        after\n",
       "12      117        after\n",
       "13      145        after\n",
       "14      130        after\n",
       "15      135        after\n",
       "16      119        after\n",
       "17      125        after\n",
       "18      111        after\n",
       "19      123        after\n",
       "20      119        after\n",
       "21      123        after"
      ]
     },
     "execution_count": 20,
     "metadata": {},
     "output_type": "execute_result"
    }
   ],
   "source": [
    "all_data = pd.concat([A,B], ignore_index=True)\n",
    "all_data.columns = [\"perform\", \"before_after\"]\n",
    "all_data"
   ]
  },
  {
   "cell_type": "code",
   "execution_count": 22,
   "id": "c6458cc7",
   "metadata": {},
   "outputs": [
    {
     "name": "stdout",
     "output_type": "stream",
     "text": [
      "all_data: \n",
      "\n",
      "    perform before_after\n",
      "0      114       before\n",
      "1      125       before\n",
      "2      163       before\n",
      "3      120       before\n",
      "4      143       before \n",
      "\n",
      "\n"
     ]
    }
   ],
   "source": [
    "print(\"all_data: \\n\\n\", all_data.head(), \"\\n\\n\")"
   ]
  },
  {
   "cell_type": "code",
   "execution_count": 25,
   "id": "198b6036",
   "metadata": {},
   "outputs": [
    {
     "data": {
      "image/png": "[encoded data removed]",
      "text/plain": [
       "<Figure size 432x288 with 1 Axes>"
      ]
     },
     "metadata": {
      "needs_background": "dark"
     },
     "output_type": "display_data"
    }
   ],
   "source": [
    "import seaborn as sns\n",
    "import matplotlib.pyplot as plt\n",
    "\n",
    "sns.boxplot(x = \"before_after\", y = 'perform', data = all_data)\n",
    "plt.xticks(color=\"white\");\n",
    "plt.yticks(color=\"white\");\n",
    "plt.show()"
   ]
  },
  {
   "cell_type": "code",
   "execution_count": null,
   "id": "d4f4a484",
   "metadata": {},
   "outputs": [],
   "source": []
  }
 ],
 "metadata": {
  "kernelspec": {
   "display_name": "Python 3 (ipykernel)",
   "language": "python",
   "name": "python3"
  },
  "language_info": {
   "codemirror_mode": {
    "name": "ipython",
    "version": 3
   },
   "file_extension": ".py",
   "mimetype": "text/x-python",
   "name": "python",
   "nbconvert_exporter": "python",
   "pygments_lexer": "ipython3",
   "version": "3.9.12"
  }
 },
 "nbformat": 4,
 "nbformat_minor": 5
}
